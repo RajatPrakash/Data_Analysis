{
 "metadata": {
  "language_info": {
   "codemirror_mode": {
    "name": "ipython",
    "version": 3
   },
   "file_extension": ".py",
   "mimetype": "text/x-python",
   "name": "python",
   "nbconvert_exporter": "python",
   "pygments_lexer": "ipython3",
   "version": "3.8.5-final"
  },
  "orig_nbformat": 2,
  "kernelspec": {
   "name": "Python 3.8.5 32-bit",
   "display_name": "Python 3.8.5 32-bit",
   "metadata": {
    "interpreter": {
     "hash": "5570a76d94786629d850b3fecaa201e4c647910ed8808b89a501e4b9a82c4c49"
    }
   }
  }
 },
 "nbformat": 4,
 "nbformat_minor": 2,
 "cells": [
  {
   "cell_type": "code",
   "execution_count": 3,
   "metadata": {},
   "outputs": [],
   "source": [
    "import pandas as pd\n",
    "\n",
    "df = pd.read_csv('C:\\\\Users\\\\rajat.prakash\\\\Desktop\\\\Remote_repo\\\\Data\\\\New folder\\\\Uber Drives 2016.csv')"
   ]
  },
  {
   "cell_type": "code",
   "execution_count": 16,
   "metadata": {},
   "outputs": [
    {
     "output_type": "execute_result",
     "data": {
      "text/plain": "START_DATE*     object\nEND_DATE*       object\nCATEGORY*       object\nSTART*          object\nSTOP*           object\nMILES*         float64\nPURPOSE*        object\ndtype: object"
     },
     "metadata": {},
     "execution_count": 16
    }
   ],
   "source": [
    "# to check the type of each columns \n",
    "df.dtypes"
   ]
  },
  {
   "cell_type": "code",
   "execution_count": 28,
   "metadata": {},
   "outputs": [
    {
     "output_type": "execute_result",
     "data": {
      "text/plain": "START_DATE*    datetime64[ns]\nEND_DATE*              object\nCATEGORY*              object\nSTART*                 object\nSTOP*                  object\nMILES*                float64\nPURPOSE*               object\ndtype: object"
     },
     "metadata": {},
     "execution_count": 28
    }
   ],
   "source": [
    "df['START_DATE*'] = pd.to_datetime(df['START_DATE*'])\n",
    "df.dtypes"
   ]
  },
  {
   "cell_type": "code",
   "execution_count": 21,
   "metadata": {},
   "outputs": [
    {
     "output_type": "execute_result",
     "data": {
      "text/plain": "             START_DATE*         END_DATE* CATEGORY*            START*  \\\n1152 2016-12-31 15:03:00  12/31/2016 15:38  Business  Unknown Location   \n1153 2016-12-31 21:32:00  12/31/2016 21:50  Business        Katunayake   \n1154 2016-12-31 22:08:00  12/31/2016 23:51  Business           Gampaha   \n\n                 STOP*  MILES*        PURPOSE*  \n1152  Unknown Location    16.2         Meeting  \n1153           Gampaha     6.4  Temporary Site  \n1154         Ilukwatta    48.2  Temporary Site  ",
      "text/html": "<div>\n<style scoped>\n    .dataframe tbody tr th:only-of-type {\n        vertical-align: middle;\n    }\n\n    .dataframe tbody tr th {\n        vertical-align: top;\n    }\n\n    .dataframe thead th {\n        text-align: right;\n    }\n</style>\n<table border=\"1\" class=\"dataframe\">\n  <thead>\n    <tr style=\"text-align: right;\">\n      <th></th>\n      <th>START_DATE*</th>\n      <th>END_DATE*</th>\n      <th>CATEGORY*</th>\n      <th>START*</th>\n      <th>STOP*</th>\n      <th>MILES*</th>\n      <th>PURPOSE*</th>\n    </tr>\n  </thead>\n  <tbody>\n    <tr>\n      <th>1152</th>\n      <td>2016-12-31 15:03:00</td>\n      <td>12/31/2016 15:38</td>\n      <td>Business</td>\n      <td>Unknown Location</td>\n      <td>Unknown Location</td>\n      <td>16.2</td>\n      <td>Meeting</td>\n    </tr>\n    <tr>\n      <th>1153</th>\n      <td>2016-12-31 21:32:00</td>\n      <td>12/31/2016 21:50</td>\n      <td>Business</td>\n      <td>Katunayake</td>\n      <td>Gampaha</td>\n      <td>6.4</td>\n      <td>Temporary Site</td>\n    </tr>\n    <tr>\n      <th>1154</th>\n      <td>2016-12-31 22:08:00</td>\n      <td>12/31/2016 23:51</td>\n      <td>Business</td>\n      <td>Gampaha</td>\n      <td>Ilukwatta</td>\n      <td>48.2</td>\n      <td>Temporary Site</td>\n    </tr>\n  </tbody>\n</table>\n</div>"
     },
     "metadata": {},
     "execution_count": 21
    }
   ],
   "source": [
    "df.tail(3)"
   ]
  },
  {
   "cell_type": "code",
   "execution_count": 23,
   "metadata": {},
   "outputs": [
    {
     "output_type": "execute_result",
     "data": {
      "text/plain": "(1155, 7)"
     },
     "metadata": {},
     "execution_count": 23
    }
   ],
   "source": [
    "df.shape"
   ]
  },
  {
   "cell_type": "code",
   "execution_count": 27,
   "metadata": {},
   "outputs": [
    {
     "output_type": "execute_result",
     "data": {
      "text/plain": "8085"
     },
     "metadata": {},
     "execution_count": 27
    }
   ],
   "source": [
    "df.size"
   ]
  },
  {
   "source": [
    "## Revision Done Now start the today's session\n",
    "\n",
    "### Common Data Manipulation Task"
   ],
   "cell_type": "markdown",
   "metadata": {}
  },
  {
   "source": [
    "### First WE will Study about the iloc - ALso known as POsitional Indexing "
   ],
   "cell_type": "markdown",
   "metadata": {}
  },
  {
   "cell_type": "code",
   "execution_count": 37,
   "metadata": {},
   "outputs": [
    {
     "output_type": "execute_result",
     "data": {
      "text/plain": "          START_DATE*       END_DATE* CATEGORY*\n0 2016-01-01 21:11:00  1/1/2016 21:17  Business\n1 2016-01-02 01:25:00   1/2/2016 1:37  Business\n2 2016-01-02 20:25:00  1/2/2016 20:38  Business\n3 2016-01-05 17:31:00  1/5/2016 17:45  Business",
      "text/html": "<div>\n<style scoped>\n    .dataframe tbody tr th:only-of-type {\n        vertical-align: middle;\n    }\n\n    .dataframe tbody tr th {\n        vertical-align: top;\n    }\n\n    .dataframe thead th {\n        text-align: right;\n    }\n</style>\n<table border=\"1\" class=\"dataframe\">\n  <thead>\n    <tr style=\"text-align: right;\">\n      <th></th>\n      <th>START_DATE*</th>\n      <th>END_DATE*</th>\n      <th>CATEGORY*</th>\n    </tr>\n  </thead>\n  <tbody>\n    <tr>\n      <th>0</th>\n      <td>2016-01-01 21:11:00</td>\n      <td>1/1/2016 21:17</td>\n      <td>Business</td>\n    </tr>\n    <tr>\n      <th>1</th>\n      <td>2016-01-02 01:25:00</td>\n      <td>1/2/2016 1:37</td>\n      <td>Business</td>\n    </tr>\n    <tr>\n      <th>2</th>\n      <td>2016-01-02 20:25:00</td>\n      <td>1/2/2016 20:38</td>\n      <td>Business</td>\n    </tr>\n    <tr>\n      <th>3</th>\n      <td>2016-01-05 17:31:00</td>\n      <td>1/5/2016 17:45</td>\n      <td>Business</td>\n    </tr>\n  </tbody>\n</table>\n</div>"
     },
     "metadata": {},
     "execution_count": 37
    }
   ],
   "source": [
    "df.head(5)\n",
    "df.iloc[0:4,0:3] # rows,columns"
   ]
  },
  {
   "cell_type": "code",
   "execution_count": 38,
   "metadata": {},
   "outputs": [
    {
     "output_type": "execute_result",
     "data": {
      "text/plain": "          START_DATE* CATEGORY*        STOP*\n0 2016-01-01 21:11:00  Business  Fort Pierce\n1 2016-01-02 01:25:00  Business  Fort Pierce\n2 2016-01-02 20:25:00  Business  Fort Pierce\n3 2016-01-05 17:31:00  Business  Fort Pierce",
      "text/html": "<div>\n<style scoped>\n    .dataframe tbody tr th:only-of-type {\n        vertical-align: middle;\n    }\n\n    .dataframe tbody tr th {\n        vertical-align: top;\n    }\n\n    .dataframe thead th {\n        text-align: right;\n    }\n</style>\n<table border=\"1\" class=\"dataframe\">\n  <thead>\n    <tr style=\"text-align: right;\">\n      <th></th>\n      <th>START_DATE*</th>\n      <th>CATEGORY*</th>\n      <th>STOP*</th>\n    </tr>\n  </thead>\n  <tbody>\n    <tr>\n      <th>0</th>\n      <td>2016-01-01 21:11:00</td>\n      <td>Business</td>\n      <td>Fort Pierce</td>\n    </tr>\n    <tr>\n      <th>1</th>\n      <td>2016-01-02 01:25:00</td>\n      <td>Business</td>\n      <td>Fort Pierce</td>\n    </tr>\n    <tr>\n      <th>2</th>\n      <td>2016-01-02 20:25:00</td>\n      <td>Business</td>\n      <td>Fort Pierce</td>\n    </tr>\n    <tr>\n      <th>3</th>\n      <td>2016-01-05 17:31:00</td>\n      <td>Business</td>\n      <td>Fort Pierce</td>\n    </tr>\n  </tbody>\n</table>\n</div>"
     },
     "metadata": {},
     "execution_count": 38
    }
   ],
   "source": [
    "df.iloc[0:4,[0,2,4]] # rows till 4 and only selective columns I need "
   ]
  },
  {
   "source": [
    "### Secondly  we will Study about the loc - ALso known as Label Indexing "
   ],
   "cell_type": "markdown",
   "metadata": {}
  },
  {
   "cell_type": "code",
   "execution_count": 40,
   "metadata": {},
   "outputs": [
    {
     "output_type": "execute_result",
     "data": {
      "text/plain": "          START_DATE*       END_DATE* CATEGORY*       START*            STOP*  \\\n0 2016-01-01 21:11:00  1/1/2016 21:17  Business  Fort Pierce      Fort Pierce   \n1 2016-01-02 01:25:00   1/2/2016 1:37  Business  Fort Pierce      Fort Pierce   \n2 2016-01-02 20:25:00  1/2/2016 20:38  Business  Fort Pierce      Fort Pierce   \n3 2016-01-05 17:31:00  1/5/2016 17:45  Business  Fort Pierce      Fort Pierce   \n4 2016-01-06 14:42:00  1/6/2016 15:49  Business  Fort Pierce  West Palm Beach   \n\n   MILES*         PURPOSE*  \n0     5.1   Meal/Entertain  \n1     5.0              NaN  \n2     4.8  Errand/Supplies  \n3     4.7          Meeting  \n4    63.7   Customer Visit  ",
      "text/html": "<div>\n<style scoped>\n    .dataframe tbody tr th:only-of-type {\n        vertical-align: middle;\n    }\n\n    .dataframe tbody tr th {\n        vertical-align: top;\n    }\n\n    .dataframe thead th {\n        text-align: right;\n    }\n</style>\n<table border=\"1\" class=\"dataframe\">\n  <thead>\n    <tr style=\"text-align: right;\">\n      <th></th>\n      <th>START_DATE*</th>\n      <th>END_DATE*</th>\n      <th>CATEGORY*</th>\n      <th>START*</th>\n      <th>STOP*</th>\n      <th>MILES*</th>\n      <th>PURPOSE*</th>\n    </tr>\n  </thead>\n  <tbody>\n    <tr>\n      <th>0</th>\n      <td>2016-01-01 21:11:00</td>\n      <td>1/1/2016 21:17</td>\n      <td>Business</td>\n      <td>Fort Pierce</td>\n      <td>Fort Pierce</td>\n      <td>5.1</td>\n      <td>Meal/Entertain</td>\n    </tr>\n    <tr>\n      <th>1</th>\n      <td>2016-01-02 01:25:00</td>\n      <td>1/2/2016 1:37</td>\n      <td>Business</td>\n      <td>Fort Pierce</td>\n      <td>Fort Pierce</td>\n      <td>5.0</td>\n      <td>NaN</td>\n    </tr>\n    <tr>\n      <th>2</th>\n      <td>2016-01-02 20:25:00</td>\n      <td>1/2/2016 20:38</td>\n      <td>Business</td>\n      <td>Fort Pierce</td>\n      <td>Fort Pierce</td>\n      <td>4.8</td>\n      <td>Errand/Supplies</td>\n    </tr>\n    <tr>\n      <th>3</th>\n      <td>2016-01-05 17:31:00</td>\n      <td>1/5/2016 17:45</td>\n      <td>Business</td>\n      <td>Fort Pierce</td>\n      <td>Fort Pierce</td>\n      <td>4.7</td>\n      <td>Meeting</td>\n    </tr>\n    <tr>\n      <th>4</th>\n      <td>2016-01-06 14:42:00</td>\n      <td>1/6/2016 15:49</td>\n      <td>Business</td>\n      <td>Fort Pierce</td>\n      <td>West Palm Beach</td>\n      <td>63.7</td>\n      <td>Customer Visit</td>\n    </tr>\n  </tbody>\n</table>\n</div>"
     },
     "metadata": {},
     "execution_count": 40
    }
   ],
   "source": [
    "df.head(5)"
   ]
  },
  {
   "cell_type": "code",
   "execution_count": 44,
   "metadata": {
    "tags": []
   },
   "outputs": [
    {
     "output_type": "stream",
     "name": "stdout",
     "text": "(1155, 1)\n"
    },
    {
     "output_type": "execute_result",
     "data": {
      "text/plain": "(1155, 7)"
     },
     "metadata": {},
     "execution_count": 44
    }
   ],
   "source": [
    "new_dataset=df.loc[:,['START_DATE*']]\n",
    "print(new_dataset.shape) # since it has only 1 column \n",
    "df.shape # Original Data set does not gets affected"
   ]
  },
  {
   "cell_type": "code",
   "execution_count": 47,
   "metadata": {},
   "outputs": [
    {
     "output_type": "execute_result",
     "data": {
      "text/plain": "             START_DATE*         END_DATE*\n0    2016-01-01 21:11:00    1/1/2016 21:17\n1    2016-01-02 01:25:00     1/2/2016 1:37\n2    2016-01-02 20:25:00    1/2/2016 20:38\n3    2016-01-05 17:31:00    1/5/2016 17:45\n4    2016-01-06 14:42:00    1/6/2016 15:49\n...                  ...               ...\n1150 2016-12-31 01:07:00   12/31/2016 1:14\n1151 2016-12-31 13:24:00  12/31/2016 13:42\n1152 2016-12-31 15:03:00  12/31/2016 15:38\n1153 2016-12-31 21:32:00  12/31/2016 21:50\n1154 2016-12-31 22:08:00  12/31/2016 23:51\n\n[1155 rows x 2 columns]",
      "text/html": "<div>\n<style scoped>\n    .dataframe tbody tr th:only-of-type {\n        vertical-align: middle;\n    }\n\n    .dataframe tbody tr th {\n        vertical-align: top;\n    }\n\n    .dataframe thead th {\n        text-align: right;\n    }\n</style>\n<table border=\"1\" class=\"dataframe\">\n  <thead>\n    <tr style=\"text-align: right;\">\n      <th></th>\n      <th>START_DATE*</th>\n      <th>END_DATE*</th>\n    </tr>\n  </thead>\n  <tbody>\n    <tr>\n      <th>0</th>\n      <td>2016-01-01 21:11:00</td>\n      <td>1/1/2016 21:17</td>\n    </tr>\n    <tr>\n      <th>1</th>\n      <td>2016-01-02 01:25:00</td>\n      <td>1/2/2016 1:37</td>\n    </tr>\n    <tr>\n      <th>2</th>\n      <td>2016-01-02 20:25:00</td>\n      <td>1/2/2016 20:38</td>\n    </tr>\n    <tr>\n      <th>3</th>\n      <td>2016-01-05 17:31:00</td>\n      <td>1/5/2016 17:45</td>\n    </tr>\n    <tr>\n      <th>4</th>\n      <td>2016-01-06 14:42:00</td>\n      <td>1/6/2016 15:49</td>\n    </tr>\n    <tr>\n      <th>...</th>\n      <td>...</td>\n      <td>...</td>\n    </tr>\n    <tr>\n      <th>1150</th>\n      <td>2016-12-31 01:07:00</td>\n      <td>12/31/2016 1:14</td>\n    </tr>\n    <tr>\n      <th>1151</th>\n      <td>2016-12-31 13:24:00</td>\n      <td>12/31/2016 13:42</td>\n    </tr>\n    <tr>\n      <th>1152</th>\n      <td>2016-12-31 15:03:00</td>\n      <td>12/31/2016 15:38</td>\n    </tr>\n    <tr>\n      <th>1153</th>\n      <td>2016-12-31 21:32:00</td>\n      <td>12/31/2016 21:50</td>\n    </tr>\n    <tr>\n      <th>1154</th>\n      <td>2016-12-31 22:08:00</td>\n      <td>12/31/2016 23:51</td>\n    </tr>\n  </tbody>\n</table>\n<p>1155 rows × 2 columns</p>\n</div>"
     },
     "metadata": {},
     "execution_count": 47
    }
   ],
   "source": [
    "# Can Also do this\n",
    "df[['START_DATE*','END_DATE*']] # this will also works fine without loc"
   ]
  },
  {
   "cell_type": "code",
   "execution_count": 50,
   "metadata": {},
   "outputs": [
    {
     "output_type": "execute_result",
     "data": {
      "text/plain": "pandas.core.series.Series"
     },
     "metadata": {},
     "execution_count": 50
    }
   ],
   "source": [
    "ser = df['START*'] # this comes out as a series (Columns called in pandas)\n",
    "type(ser)\n",
    "# pandas.core.series.Series"
   ]
  },
  {
   "cell_type": "code",
   "execution_count": 53,
   "metadata": {},
   "outputs": [
    {
     "output_type": "execute_result",
     "data": {
      "text/plain": "pandas.core.frame.DataFrame"
     },
     "metadata": {},
     "execution_count": 53
    }
   ],
   "source": [
    "# If you want the single column as a dataframe only then \n",
    "data = df[['START*']]\n",
    "type(data)\n",
    "# pandas.core.frame.DataFrame"
   ]
  },
  {
   "cell_type": "code",
   "execution_count": null,
   "metadata": {},
   "outputs": [],
   "source": []
  }
 ]
}