{
 "metadata": {
  "language_info": {
   "codemirror_mode": {
    "name": "ipython",
    "version": 3
   },
   "file_extension": ".py",
   "mimetype": "text/x-python",
   "name": "python",
   "nbconvert_exporter": "python",
   "pygments_lexer": "ipython3",
   "version": "3.8.5-final"
  },
  "orig_nbformat": 2,
  "kernelspec": {
   "name": "Python 3.8.5 32-bit",
   "display_name": "Python 3.8.5 32-bit",
   "metadata": {
    "interpreter": {
     "hash": "5570a76d94786629d850b3fecaa201e4c647910ed8808b89a501e4b9a82c4c49"
    }
   }
  }
 },
 "nbformat": 4,
 "nbformat_minor": 2,
 "cells": [
  {
   "cell_type": "code",
   "execution_count": 1,
   "metadata": {},
   "outputs": [],
   "source": [
    "import pandas as pd\n",
    "\n",
    "df = pd.read_csv(r'C:\\Users\\rajat.prakash\\Desktop\\Remote_repo\\Data\\Data_Analysis\\Files\\Uber Drives 2016.csv')"
   ]
  },
  {
   "cell_type": "code",
   "execution_count": 3,
   "metadata": {},
   "outputs": [
    {
     "output_type": "execute_result",
     "data": {
      "text/plain": [
       "      START_DATE*       END_DATE* CATEGORY*       START*        STOP*  MILES*  \\\n",
       "0  1/1/2016 21:11  1/1/2016 21:17  Business  Fort Pierce  Fort Pierce     5.1   \n",
       "1   1/2/2016 1:25   1/2/2016 1:37  Business  Fort Pierce  Fort Pierce     5.0   \n",
       "\n",
       "         PURPOSE*  \n",
       "0  Meal/Entertain  \n",
       "1             NaN  "
      ],
      "text/html": "<div>\n<style scoped>\n    .dataframe tbody tr th:only-of-type {\n        vertical-align: middle;\n    }\n\n    .dataframe tbody tr th {\n        vertical-align: top;\n    }\n\n    .dataframe thead th {\n        text-align: right;\n    }\n</style>\n<table border=\"1\" class=\"dataframe\">\n  <thead>\n    <tr style=\"text-align: right;\">\n      <th></th>\n      <th>START_DATE*</th>\n      <th>END_DATE*</th>\n      <th>CATEGORY*</th>\n      <th>START*</th>\n      <th>STOP*</th>\n      <th>MILES*</th>\n      <th>PURPOSE*</th>\n    </tr>\n  </thead>\n  <tbody>\n    <tr>\n      <th>0</th>\n      <td>1/1/2016 21:11</td>\n      <td>1/1/2016 21:17</td>\n      <td>Business</td>\n      <td>Fort Pierce</td>\n      <td>Fort Pierce</td>\n      <td>5.1</td>\n      <td>Meal/Entertain</td>\n    </tr>\n    <tr>\n      <th>1</th>\n      <td>1/2/2016 1:25</td>\n      <td>1/2/2016 1:37</td>\n      <td>Business</td>\n      <td>Fort Pierce</td>\n      <td>Fort Pierce</td>\n      <td>5.0</td>\n      <td>NaN</td>\n    </tr>\n  </tbody>\n</table>\n</div>"
     },
     "metadata": {},
     "execution_count": 3
    }
   ],
   "source": [
    "df.head(2)"
   ]
  },
  {
   "cell_type": "code",
   "execution_count": 7,
   "metadata": {},
   "outputs": [
    {
     "output_type": "execute_result",
     "data": {
      "text/plain": [
       "                       END_DATE*  MILES*\n",
       "START_DATE*                             \n",
       "1/1/2016 21:11    1/1/2016 21:17     5.1\n",
       "1/10/2016 12:17  1/10/2016 12:44    16.5\n",
       "1/10/2016 15:08  1/10/2016 15:51    10.8\n",
       "1/10/2016 18:18  1/10/2016 18:53     7.5\n",
       "1/10/2016 19:12  1/10/2016 19:32     6.2\n",
       "...                          ...     ...\n",
       "9/29/2016 16:13  9/29/2016 18:47    12.6\n",
       "9/30/2016 17:39  9/30/2016 20:20    37.7\n",
       "9/30/2016 20:59  9/30/2016 22:34    16.7\n",
       "9/5/2016 10:25    9/5/2016 10:44    17.2\n",
       "9/6/2016 17:49    9/6/2016 17:49    69.1\n",
       "\n",
       "[1154 rows x 2 columns]"
      ],
      "text/html": "<div>\n<style scoped>\n    .dataframe tbody tr th:only-of-type {\n        vertical-align: middle;\n    }\n\n    .dataframe tbody tr th {\n        vertical-align: top;\n    }\n\n    .dataframe thead th {\n        text-align: right;\n    }\n</style>\n<table border=\"1\" class=\"dataframe\">\n  <thead>\n    <tr style=\"text-align: right;\">\n      <th></th>\n      <th>END_DATE*</th>\n      <th>MILES*</th>\n    </tr>\n    <tr>\n      <th>START_DATE*</th>\n      <th></th>\n      <th></th>\n    </tr>\n  </thead>\n  <tbody>\n    <tr>\n      <th>1/1/2016 21:11</th>\n      <td>1/1/2016 21:17</td>\n      <td>5.1</td>\n    </tr>\n    <tr>\n      <th>1/10/2016 12:17</th>\n      <td>1/10/2016 12:44</td>\n      <td>16.5</td>\n    </tr>\n    <tr>\n      <th>1/10/2016 15:08</th>\n      <td>1/10/2016 15:51</td>\n      <td>10.8</td>\n    </tr>\n    <tr>\n      <th>1/10/2016 18:18</th>\n      <td>1/10/2016 18:53</td>\n      <td>7.5</td>\n    </tr>\n    <tr>\n      <th>1/10/2016 19:12</th>\n      <td>1/10/2016 19:32</td>\n      <td>6.2</td>\n    </tr>\n    <tr>\n      <th>...</th>\n      <td>...</td>\n      <td>...</td>\n    </tr>\n    <tr>\n      <th>9/29/2016 16:13</th>\n      <td>9/29/2016 18:47</td>\n      <td>12.6</td>\n    </tr>\n    <tr>\n      <th>9/30/2016 17:39</th>\n      <td>9/30/2016 20:20</td>\n      <td>37.7</td>\n    </tr>\n    <tr>\n      <th>9/30/2016 20:59</th>\n      <td>9/30/2016 22:34</td>\n      <td>16.7</td>\n    </tr>\n    <tr>\n      <th>9/5/2016 10:25</th>\n      <td>9/5/2016 10:44</td>\n      <td>17.2</td>\n    </tr>\n    <tr>\n      <th>9/6/2016 17:49</th>\n      <td>9/6/2016 17:49</td>\n      <td>69.1</td>\n    </tr>\n  </tbody>\n</table>\n<p>1154 rows × 2 columns</p>\n</div>"
     },
     "metadata": {},
     "execution_count": 7
    }
   ],
   "source": [
    "df.groupby('START_DATE*')['END_DATE*','MILES*'].max()"
   ]
  },
  {
   "cell_type": "code",
   "execution_count": 10,
   "metadata": {},
   "outputs": [
    {
     "output_type": "execute_result",
     "data": {
      "text/plain": [
       "START_DATE*     object\n",
       "END_DATE*       object\n",
       "CATEGORY*       object\n",
       "START*          object\n",
       "STOP*           object\n",
       "MILES*         float64\n",
       "PURPOSE*        object\n",
       "dtype: object"
      ]
     },
     "metadata": {},
     "execution_count": 10
    }
   ],
   "source": [
    "df.columns\n",
    "df.dtypes"
   ]
  },
  {
   "cell_type": "code",
   "execution_count": 12,
   "metadata": {},
   "outputs": [
    {
     "output_type": "execute_result",
     "data": {
      "text/plain": [
       "START_DATE*    datetime64[ns]\n",
       "END_DATE*      datetime64[ns]\n",
       "CATEGORY*              object\n",
       "START*                 object\n",
       "STOP*                  object\n",
       "MILES*                float64\n",
       "PURPOSE*               object\n",
       "dtype: object"
      ]
     },
     "metadata": {},
     "execution_count": 12
    }
   ],
   "source": [
    "df['START_DATE*'] = pd.to_datetime(df['START_DATE*'])\n",
    "df['END_DATE*'] = pd.to_datetime(df['END_DATE*'])\n",
    "df.dtypes"
   ]
  },
  {
   "cell_type": "code",
   "execution_count": 17,
   "metadata": {},
   "outputs": [
    {
     "output_type": "stream",
     "name": "stdout",
     "text": [
      "START_DATE*    datetime64[ns]\nEND_DATE*      datetime64[ns]\nCATEGORY*              object\nSTART*                 object\nSTOP*                  object\nMILES*                float64\nPURPOSE*               object\ndtype: object\n"
     ]
    },
    {
     "output_type": "execute_result",
     "data": {
      "text/plain": [
       "             START_DATE*           END_DATE* CATEGORY*            START*  \\\n",
       "1150 2016-12-31 01:07:00 2016-12-31 01:14:00  Business           Kar?chi   \n",
       "1151 2016-12-31 13:24:00 2016-12-31 13:42:00  Business           Kar?chi   \n",
       "1152 2016-12-31 15:03:00 2016-12-31 15:38:00  Business  Unknown Location   \n",
       "1153 2016-12-31 21:32:00 2016-12-31 21:50:00  Business        Katunayake   \n",
       "1154 2016-12-31 22:08:00 2016-12-31 23:51:00  Business           Gampaha   \n",
       "\n",
       "                 STOP*  MILES*        PURPOSE*  \n",
       "1150           Kar?chi     0.7         Meeting  \n",
       "1151  Unknown Location     3.9  Temporary Site  \n",
       "1152  Unknown Location    16.2         Meeting  \n",
       "1153           Gampaha     6.4  Temporary Site  \n",
       "1154         Ilukwatta    48.2  Temporary Site  "
      ],
      "text/html": "<div>\n<style scoped>\n    .dataframe tbody tr th:only-of-type {\n        vertical-align: middle;\n    }\n\n    .dataframe tbody tr th {\n        vertical-align: top;\n    }\n\n    .dataframe thead th {\n        text-align: right;\n    }\n</style>\n<table border=\"1\" class=\"dataframe\">\n  <thead>\n    <tr style=\"text-align: right;\">\n      <th></th>\n      <th>START_DATE*</th>\n      <th>END_DATE*</th>\n      <th>CATEGORY*</th>\n      <th>START*</th>\n      <th>STOP*</th>\n      <th>MILES*</th>\n      <th>PURPOSE*</th>\n    </tr>\n  </thead>\n  <tbody>\n    <tr>\n      <th>1150</th>\n      <td>2016-12-31 01:07:00</td>\n      <td>2016-12-31 01:14:00</td>\n      <td>Business</td>\n      <td>Kar?chi</td>\n      <td>Kar?chi</td>\n      <td>0.7</td>\n      <td>Meeting</td>\n    </tr>\n    <tr>\n      <th>1151</th>\n      <td>2016-12-31 13:24:00</td>\n      <td>2016-12-31 13:42:00</td>\n      <td>Business</td>\n      <td>Kar?chi</td>\n      <td>Unknown Location</td>\n      <td>3.9</td>\n      <td>Temporary Site</td>\n    </tr>\n    <tr>\n      <th>1152</th>\n      <td>2016-12-31 15:03:00</td>\n      <td>2016-12-31 15:38:00</td>\n      <td>Business</td>\n      <td>Unknown Location</td>\n      <td>Unknown Location</td>\n      <td>16.2</td>\n      <td>Meeting</td>\n    </tr>\n    <tr>\n      <th>1153</th>\n      <td>2016-12-31 21:32:00</td>\n      <td>2016-12-31 21:50:00</td>\n      <td>Business</td>\n      <td>Katunayake</td>\n      <td>Gampaha</td>\n      <td>6.4</td>\n      <td>Temporary Site</td>\n    </tr>\n    <tr>\n      <th>1154</th>\n      <td>2016-12-31 22:08:00</td>\n      <td>2016-12-31 23:51:00</td>\n      <td>Business</td>\n      <td>Gampaha</td>\n      <td>Ilukwatta</td>\n      <td>48.2</td>\n      <td>Temporary Site</td>\n    </tr>\n  </tbody>\n</table>\n</div>"
     },
     "metadata": {},
     "execution_count": 17
    }
   ],
   "source": [
    "print(df.dtypes)\n",
    "data = df.loc[df['START_DATE*']>'2016-12-31']\n",
    "data"
   ]
  },
  {
   "cell_type": "code",
   "execution_count": 28,
   "metadata": {},
   "outputs": [
    {
     "output_type": "execute_result",
     "data": {
      "text/plain": [
       "         START_CITY*  AVG_DISTANCE*         FIRST_TRIP*          LAST_TRIP*\n",
       "0              Agnew       2.775000 2016-11-04 21:04:00 2016-11-06 10:50:00\n",
       "1             Almond      15.200000 2016-10-30 12:58:00 2016-10-30 12:58:00\n",
       "2               Apex       5.341176 2016-01-29 21:21:00 2016-12-12 14:26:00\n",
       "3              Arabi      17.000000 2016-06-25 10:50:00 2016-06-25 10:50:00\n",
       "4          Arlington       4.900000 2016-08-02 11:51:00 2016-08-02 11:51:00\n",
       "..               ...            ...                 ...                 ...\n",
       "172  West University       2.200000 2016-03-10 14:39:00 2016-03-16 18:43:00\n",
       "173           Weston       4.000000 2016-03-05 12:57:00 2016-06-05 15:57:00\n",
       "174   Westpark Place       2.182353 2016-02-26 11:05:00 2016-11-03 14:13:00\n",
       "175      Whitebridge       4.020588 2016-01-19 09:09:00 2016-11-03 13:42:00\n",
       "176    Winston Salem     133.600000 2016-10-28 18:13:00 2016-10-28 18:13:00\n",
       "\n",
       "[177 rows x 4 columns]"
      ],
      "text/html": "<div>\n<style scoped>\n    .dataframe tbody tr th:only-of-type {\n        vertical-align: middle;\n    }\n\n    .dataframe tbody tr th {\n        vertical-align: top;\n    }\n\n    .dataframe thead th {\n        text-align: right;\n    }\n</style>\n<table border=\"1\" class=\"dataframe\">\n  <thead>\n    <tr style=\"text-align: right;\">\n      <th></th>\n      <th>START_CITY*</th>\n      <th>AVG_DISTANCE*</th>\n      <th>FIRST_TRIP*</th>\n      <th>LAST_TRIP*</th>\n    </tr>\n  </thead>\n  <tbody>\n    <tr>\n      <th>0</th>\n      <td>Agnew</td>\n      <td>2.775000</td>\n      <td>2016-11-04 21:04:00</td>\n      <td>2016-11-06 10:50:00</td>\n    </tr>\n    <tr>\n      <th>1</th>\n      <td>Almond</td>\n      <td>15.200000</td>\n      <td>2016-10-30 12:58:00</td>\n      <td>2016-10-30 12:58:00</td>\n    </tr>\n    <tr>\n      <th>2</th>\n      <td>Apex</td>\n      <td>5.341176</td>\n      <td>2016-01-29 21:21:00</td>\n      <td>2016-12-12 14:26:00</td>\n    </tr>\n    <tr>\n      <th>3</th>\n      <td>Arabi</td>\n      <td>17.000000</td>\n      <td>2016-06-25 10:50:00</td>\n      <td>2016-06-25 10:50:00</td>\n    </tr>\n    <tr>\n      <th>4</th>\n      <td>Arlington</td>\n      <td>4.900000</td>\n      <td>2016-08-02 11:51:00</td>\n      <td>2016-08-02 11:51:00</td>\n    </tr>\n    <tr>\n      <th>...</th>\n      <td>...</td>\n      <td>...</td>\n      <td>...</td>\n      <td>...</td>\n    </tr>\n    <tr>\n      <th>172</th>\n      <td>West University</td>\n      <td>2.200000</td>\n      <td>2016-03-10 14:39:00</td>\n      <td>2016-03-16 18:43:00</td>\n    </tr>\n    <tr>\n      <th>173</th>\n      <td>Weston</td>\n      <td>4.000000</td>\n      <td>2016-03-05 12:57:00</td>\n      <td>2016-06-05 15:57:00</td>\n    </tr>\n    <tr>\n      <th>174</th>\n      <td>Westpark Place</td>\n      <td>2.182353</td>\n      <td>2016-02-26 11:05:00</td>\n      <td>2016-11-03 14:13:00</td>\n    </tr>\n    <tr>\n      <th>175</th>\n      <td>Whitebridge</td>\n      <td>4.020588</td>\n      <td>2016-01-19 09:09:00</td>\n      <td>2016-11-03 13:42:00</td>\n    </tr>\n    <tr>\n      <th>176</th>\n      <td>Winston Salem</td>\n      <td>133.600000</td>\n      <td>2016-10-28 18:13:00</td>\n      <td>2016-10-28 18:13:00</td>\n    </tr>\n  </tbody>\n</table>\n<p>177 rows × 4 columns</p>\n</div>"
     },
     "metadata": {},
     "execution_count": 28
    }
   ],
   "source": [
    "new = df.groupby('START*').agg({'MILES*':'mean','START_DATE*':['min','max']})\n",
    "new.reset_index(inplace=True)\n",
    "new.columns = ['START_CITY*','AVG_DISTANCE*','FIRST_TRIP*','LAST_TRIP*']\n",
    "new\n"
   ]
  },
  {
   "cell_type": "code",
   "execution_count": 29,
   "metadata": {},
   "outputs": [
    {
     "output_type": "execute_result",
     "data": {
      "text/plain": [
       "START_DATE*    datetime64[ns]\n",
       "END_DATE*      datetime64[ns]\n",
       "CATEGORY*              object\n",
       "START*                 object\n",
       "STOP*                  object\n",
       "MILES*                float64\n",
       "PURPOSE*               object\n",
       "dtype: object"
      ]
     },
     "metadata": {},
     "execution_count": 29
    }
   ],
   "source": [
    "df.dtypes"
   ]
  }
 ]
}