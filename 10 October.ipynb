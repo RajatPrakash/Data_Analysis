{
 "metadata": {
  "language_info": {
   "codemirror_mode": {
    "name": "ipython",
    "version": 3
   },
   "file_extension": ".py",
   "mimetype": "text/x-python",
   "name": "python",
   "nbconvert_exporter": "python",
   "pygments_lexer": "ipython3",
   "version": "3.8.5-final"
  },
  "orig_nbformat": 2,
  "kernelspec": {
   "name": "Python 3.8.5 32-bit",
   "display_name": "Python 3.8.5 32-bit",
   "metadata": {
    "interpreter": {
     "hash": "5570a76d94786629d850b3fecaa201e4c647910ed8808b89a501e4b9a82c4c49"
    }
   }
  }
 },
 "nbformat": 4,
 "nbformat_minor": 2,
 "cells": [
  {
   "cell_type": "code",
   "execution_count": 5,
   "metadata": {},
   "outputs": [
    {
     "output_type": "execute_result",
     "data": {
      "text/plain": [
       "           START_DATE*         END_DATE* CATEGORY*            START*  \\\n",
       "0       1/1/2016 21:11    1/1/2016 21:17  Business       Fort Pierce   \n",
       "1        1/2/2016 1:25     1/2/2016 1:37  Business       Fort Pierce   \n",
       "2       1/2/2016 20:25    1/2/2016 20:38  Business       Fort Pierce   \n",
       "3       1/5/2016 17:31    1/5/2016 17:45  Business       Fort Pierce   \n",
       "4       1/6/2016 14:42    1/6/2016 15:49  Business       Fort Pierce   \n",
       "...                ...               ...       ...               ...   \n",
       "1150   12/31/2016 1:07   12/31/2016 1:14  Business           Kar?chi   \n",
       "1151  12/31/2016 13:24  12/31/2016 13:42  Business           Kar?chi   \n",
       "1152  12/31/2016 15:03  12/31/2016 15:38  Business  Unknown Location   \n",
       "1153  12/31/2016 21:32  12/31/2016 21:50  Business        Katunayake   \n",
       "1154  12/31/2016 22:08  12/31/2016 23:51  Business           Gampaha   \n",
       "\n",
       "                 STOP*  MILES*         PURPOSE*  \n",
       "0          Fort Pierce     5.1   Meal/Entertain  \n",
       "1          Fort Pierce     5.0              NaN  \n",
       "2          Fort Pierce     4.8  Errand/Supplies  \n",
       "3          Fort Pierce     4.7          Meeting  \n",
       "4      West Palm Beach    63.7   Customer Visit  \n",
       "...                ...     ...              ...  \n",
       "1150           Kar?chi     0.7          Meeting  \n",
       "1151  Unknown Location     3.9   Temporary Site  \n",
       "1152  Unknown Location    16.2          Meeting  \n",
       "1153           Gampaha     6.4   Temporary Site  \n",
       "1154         Ilukwatta    48.2   Temporary Site  \n",
       "\n",
       "[1155 rows x 7 columns]"
      ],
      "text/html": "<div>\n<style scoped>\n    .dataframe tbody tr th:only-of-type {\n        vertical-align: middle;\n    }\n\n    .dataframe tbody tr th {\n        vertical-align: top;\n    }\n\n    .dataframe thead th {\n        text-align: right;\n    }\n</style>\n<table border=\"1\" class=\"dataframe\">\n  <thead>\n    <tr style=\"text-align: right;\">\n      <th></th>\n      <th>START_DATE*</th>\n      <th>END_DATE*</th>\n      <th>CATEGORY*</th>\n      <th>START*</th>\n      <th>STOP*</th>\n      <th>MILES*</th>\n      <th>PURPOSE*</th>\n    </tr>\n  </thead>\n  <tbody>\n    <tr>\n      <th>0</th>\n      <td>1/1/2016 21:11</td>\n      <td>1/1/2016 21:17</td>\n      <td>Business</td>\n      <td>Fort Pierce</td>\n      <td>Fort Pierce</td>\n      <td>5.1</td>\n      <td>Meal/Entertain</td>\n    </tr>\n    <tr>\n      <th>1</th>\n      <td>1/2/2016 1:25</td>\n      <td>1/2/2016 1:37</td>\n      <td>Business</td>\n      <td>Fort Pierce</td>\n      <td>Fort Pierce</td>\n      <td>5.0</td>\n      <td>NaN</td>\n    </tr>\n    <tr>\n      <th>2</th>\n      <td>1/2/2016 20:25</td>\n      <td>1/2/2016 20:38</td>\n      <td>Business</td>\n      <td>Fort Pierce</td>\n      <td>Fort Pierce</td>\n      <td>4.8</td>\n      <td>Errand/Supplies</td>\n    </tr>\n    <tr>\n      <th>3</th>\n      <td>1/5/2016 17:31</td>\n      <td>1/5/2016 17:45</td>\n      <td>Business</td>\n      <td>Fort Pierce</td>\n      <td>Fort Pierce</td>\n      <td>4.7</td>\n      <td>Meeting</td>\n    </tr>\n    <tr>\n      <th>4</th>\n      <td>1/6/2016 14:42</td>\n      <td>1/6/2016 15:49</td>\n      <td>Business</td>\n      <td>Fort Pierce</td>\n      <td>West Palm Beach</td>\n      <td>63.7</td>\n      <td>Customer Visit</td>\n    </tr>\n    <tr>\n      <th>...</th>\n      <td>...</td>\n      <td>...</td>\n      <td>...</td>\n      <td>...</td>\n      <td>...</td>\n      <td>...</td>\n      <td>...</td>\n    </tr>\n    <tr>\n      <th>1150</th>\n      <td>12/31/2016 1:07</td>\n      <td>12/31/2016 1:14</td>\n      <td>Business</td>\n      <td>Kar?chi</td>\n      <td>Kar?chi</td>\n      <td>0.7</td>\n      <td>Meeting</td>\n    </tr>\n    <tr>\n      <th>1151</th>\n      <td>12/31/2016 13:24</td>\n      <td>12/31/2016 13:42</td>\n      <td>Business</td>\n      <td>Kar?chi</td>\n      <td>Unknown Location</td>\n      <td>3.9</td>\n      <td>Temporary Site</td>\n    </tr>\n    <tr>\n      <th>1152</th>\n      <td>12/31/2016 15:03</td>\n      <td>12/31/2016 15:38</td>\n      <td>Business</td>\n      <td>Unknown Location</td>\n      <td>Unknown Location</td>\n      <td>16.2</td>\n      <td>Meeting</td>\n    </tr>\n    <tr>\n      <th>1153</th>\n      <td>12/31/2016 21:32</td>\n      <td>12/31/2016 21:50</td>\n      <td>Business</td>\n      <td>Katunayake</td>\n      <td>Gampaha</td>\n      <td>6.4</td>\n      <td>Temporary Site</td>\n    </tr>\n    <tr>\n      <th>1154</th>\n      <td>12/31/2016 22:08</td>\n      <td>12/31/2016 23:51</td>\n      <td>Business</td>\n      <td>Gampaha</td>\n      <td>Ilukwatta</td>\n      <td>48.2</td>\n      <td>Temporary Site</td>\n    </tr>\n  </tbody>\n</table>\n<p>1155 rows × 7 columns</p>\n</div>"
     },
     "metadata": {},
     "execution_count": 5
    }
   ],
   "source": [
    "import pandas as pd\n",
    "\n",
    "df = pd.read_csv(r'C:\\Users\\rajat.prakash\\Desktop\\Remote_repo\\Data\\Data_Analysis\\Files\\Uber Drives 2016.csv')\n",
    "\n",
    "df"
   ]
  },
  {
   "source": [
    "## Grouping"
   ],
   "cell_type": "markdown",
   "metadata": {}
  },
  {
   "cell_type": "code",
   "execution_count": 18,
   "metadata": {},
   "outputs": [
    {
     "output_type": "execute_result",
     "data": {
      "text/plain": [
       "START*\n",
       "Agnew                2.775000\n",
       "Almond              15.200000\n",
       "Apex                 5.341176\n",
       "Arabi               17.000000\n",
       "Arlington            4.900000\n",
       "                      ...    \n",
       "West University      2.200000\n",
       "Weston               4.000000\n",
       "Westpark Place       2.182353\n",
       "Whitebridge          4.020588\n",
       "Winston Salem      133.600000\n",
       "Name: MILES*, Length: 177, dtype: float64"
      ]
     },
     "metadata": {},
     "execution_count": 18
    }
   ],
   "source": [
    "df.groupby('START*')['MILES*'].mean()\n"
   ]
  },
  {
   "cell_type": "code",
   "execution_count": 30,
   "metadata": {},
   "outputs": [
    {
     "output_type": "execute_result",
     "data": {
      "text/plain": [
       "MultiIndex([('MILES*', 'mean'),\n",
       "            ('MILES*',  'sum')],\n",
       "           )"
      ]
     },
     "metadata": {},
     "execution_count": 30
    }
   ],
   "source": [
    "rajat = df.groupby(['START*','STOP*']).agg(['mean','sum']).head(20)\n",
    "rajat.columns"
   ]
  },
  {
   "cell_type": "code",
   "execution_count": 36,
   "metadata": {},
   "outputs": [
    {
     "output_type": "execute_result",
     "data": {
      "text/plain": [
       "           START_DATE*         END_DATE* CATEGORY*            START*  \\\n",
       "0       1/1/2016 21:11    1/1/2016 21:17  Business       Fort Pierce   \n",
       "1        1/2/2016 1:25     1/2/2016 1:37  Business       Fort Pierce   \n",
       "2       1/2/2016 20:25    1/2/2016 20:38  Business       Fort Pierce   \n",
       "3       1/5/2016 17:31    1/5/2016 17:45  Business       Fort Pierce   \n",
       "4       1/6/2016 14:42    1/6/2016 15:49  Business       Fort Pierce   \n",
       "...                ...               ...       ...               ...   \n",
       "1150   12/31/2016 1:07   12/31/2016 1:14  Business           Kar?chi   \n",
       "1151  12/31/2016 13:24  12/31/2016 13:42  Business           Kar?chi   \n",
       "1152  12/31/2016 15:03  12/31/2016 15:38  Business  Unknown Location   \n",
       "1153  12/31/2016 21:32  12/31/2016 21:50  Business        Katunayake   \n",
       "1154  12/31/2016 22:08  12/31/2016 23:51  Business           Gampaha   \n",
       "\n",
       "                 STOP*  MILES*         PURPOSE*  \n",
       "0          Fort Pierce     5.1   Meal/Entertain  \n",
       "1          Fort Pierce     5.0              NaN  \n",
       "2          Fort Pierce     4.8  Errand/Supplies  \n",
       "3          Fort Pierce     4.7          Meeting  \n",
       "4      West Palm Beach    63.7   Customer Visit  \n",
       "...                ...     ...              ...  \n",
       "1150           Kar?chi     0.7          Meeting  \n",
       "1151  Unknown Location     3.9   Temporary Site  \n",
       "1152  Unknown Location    16.2          Meeting  \n",
       "1153           Gampaha     6.4   Temporary Site  \n",
       "1154         Ilukwatta    48.2   Temporary Site  \n",
       "\n",
       "[1155 rows x 7 columns]"
      ],
      "text/html": "<div>\n<style scoped>\n    .dataframe tbody tr th:only-of-type {\n        vertical-align: middle;\n    }\n\n    .dataframe tbody tr th {\n        vertical-align: top;\n    }\n\n    .dataframe thead th {\n        text-align: right;\n    }\n</style>\n<table border=\"1\" class=\"dataframe\">\n  <thead>\n    <tr style=\"text-align: right;\">\n      <th></th>\n      <th>START_DATE*</th>\n      <th>END_DATE*</th>\n      <th>CATEGORY*</th>\n      <th>START*</th>\n      <th>STOP*</th>\n      <th>MILES*</th>\n      <th>PURPOSE*</th>\n    </tr>\n  </thead>\n  <tbody>\n    <tr>\n      <th>0</th>\n      <td>1/1/2016 21:11</td>\n      <td>1/1/2016 21:17</td>\n      <td>Business</td>\n      <td>Fort Pierce</td>\n      <td>Fort Pierce</td>\n      <td>5.1</td>\n      <td>Meal/Entertain</td>\n    </tr>\n    <tr>\n      <th>1</th>\n      <td>1/2/2016 1:25</td>\n      <td>1/2/2016 1:37</td>\n      <td>Business</td>\n      <td>Fort Pierce</td>\n      <td>Fort Pierce</td>\n      <td>5.0</td>\n      <td>NaN</td>\n    </tr>\n    <tr>\n      <th>2</th>\n      <td>1/2/2016 20:25</td>\n      <td>1/2/2016 20:38</td>\n      <td>Business</td>\n      <td>Fort Pierce</td>\n      <td>Fort Pierce</td>\n      <td>4.8</td>\n      <td>Errand/Supplies</td>\n    </tr>\n    <tr>\n      <th>3</th>\n      <td>1/5/2016 17:31</td>\n      <td>1/5/2016 17:45</td>\n      <td>Business</td>\n      <td>Fort Pierce</td>\n      <td>Fort Pierce</td>\n      <td>4.7</td>\n      <td>Meeting</td>\n    </tr>\n    <tr>\n      <th>4</th>\n      <td>1/6/2016 14:42</td>\n      <td>1/6/2016 15:49</td>\n      <td>Business</td>\n      <td>Fort Pierce</td>\n      <td>West Palm Beach</td>\n      <td>63.7</td>\n      <td>Customer Visit</td>\n    </tr>\n    <tr>\n      <th>...</th>\n      <td>...</td>\n      <td>...</td>\n      <td>...</td>\n      <td>...</td>\n      <td>...</td>\n      <td>...</td>\n      <td>...</td>\n    </tr>\n    <tr>\n      <th>1150</th>\n      <td>12/31/2016 1:07</td>\n      <td>12/31/2016 1:14</td>\n      <td>Business</td>\n      <td>Kar?chi</td>\n      <td>Kar?chi</td>\n      <td>0.7</td>\n      <td>Meeting</td>\n    </tr>\n    <tr>\n      <th>1151</th>\n      <td>12/31/2016 13:24</td>\n      <td>12/31/2016 13:42</td>\n      <td>Business</td>\n      <td>Kar?chi</td>\n      <td>Unknown Location</td>\n      <td>3.9</td>\n      <td>Temporary Site</td>\n    </tr>\n    <tr>\n      <th>1152</th>\n      <td>12/31/2016 15:03</td>\n      <td>12/31/2016 15:38</td>\n      <td>Business</td>\n      <td>Unknown Location</td>\n      <td>Unknown Location</td>\n      <td>16.2</td>\n      <td>Meeting</td>\n    </tr>\n    <tr>\n      <th>1153</th>\n      <td>12/31/2016 21:32</td>\n      <td>12/31/2016 21:50</td>\n      <td>Business</td>\n      <td>Katunayake</td>\n      <td>Gampaha</td>\n      <td>6.4</td>\n      <td>Temporary Site</td>\n    </tr>\n    <tr>\n      <th>1154</th>\n      <td>12/31/2016 22:08</td>\n      <td>12/31/2016 23:51</td>\n      <td>Business</td>\n      <td>Gampaha</td>\n      <td>Ilukwatta</td>\n      <td>48.2</td>\n      <td>Temporary Site</td>\n    </tr>\n  </tbody>\n</table>\n<p>1155 rows × 7 columns</p>\n</div>"
     },
     "metadata": {},
     "execution_count": 36
    }
   ],
   "source": [
    "df"
   ]
  },
  {
   "cell_type": "code",
   "execution_count": 40,
   "metadata": {},
   "outputs": [
    {
     "output_type": "execute_result",
     "data": {
      "text/plain": [
       "           START_DATE*         END_DATE* CATEGORY*       START*  \\\n",
       "0       1/1/2016 21:11    1/1/2016 21:17  Business  Fort Pierce   \n",
       "1        1/2/2016 1:25     1/2/2016 1:37  Business  Fort Pierce   \n",
       "2       1/2/2016 20:25    1/2/2016 20:38  Business  Fort Pierce   \n",
       "3       1/5/2016 17:31    1/5/2016 17:45  Business  Fort Pierce   \n",
       "4       1/6/2016 14:42    1/6/2016 15:49  Business  Fort Pierce   \n",
       "...                ...               ...       ...          ...   \n",
       "1147  12/30/2016 15:41  12/30/2016 16:03  Business      Kar?chi   \n",
       "1148  12/30/2016 16:45  12/30/2016 17:08  Business      Kar?chi   \n",
       "1149  12/30/2016 23:06  12/30/2016 23:10  Business      Kar?chi   \n",
       "1150   12/31/2016 1:07   12/31/2016 1:14  Business      Kar?chi   \n",
       "1151  12/31/2016 13:24  12/31/2016 13:42  Business      Kar?chi   \n",
       "\n",
       "                 STOP*  MILES*         PURPOSE*  \n",
       "0          Fort Pierce     5.1   Meal/Entertain  \n",
       "1          Fort Pierce     5.0              NaN  \n",
       "2          Fort Pierce     4.8  Errand/Supplies  \n",
       "3          Fort Pierce     4.7          Meeting  \n",
       "4      West Palm Beach    63.7   Customer Visit  \n",
       "...                ...     ...              ...  \n",
       "1147           Kar?chi     4.6  Errand/Supplies  \n",
       "1148           Kar?chi     4.6          Meeting  \n",
       "1149           Kar?chi     0.8   Customer Visit  \n",
       "1150           Kar?chi     0.7          Meeting  \n",
       "1151  Unknown Location     3.9   Temporary Site  \n",
       "\n",
       "[1152 rows x 7 columns]"
      ],
      "text/html": "<div>\n<style scoped>\n    .dataframe tbody tr th:only-of-type {\n        vertical-align: middle;\n    }\n\n    .dataframe tbody tr th {\n        vertical-align: top;\n    }\n\n    .dataframe thead th {\n        text-align: right;\n    }\n</style>\n<table border=\"1\" class=\"dataframe\">\n  <thead>\n    <tr style=\"text-align: right;\">\n      <th></th>\n      <th>START_DATE*</th>\n      <th>END_DATE*</th>\n      <th>CATEGORY*</th>\n      <th>START*</th>\n      <th>STOP*</th>\n      <th>MILES*</th>\n      <th>PURPOSE*</th>\n    </tr>\n  </thead>\n  <tbody>\n    <tr>\n      <th>0</th>\n      <td>1/1/2016 21:11</td>\n      <td>1/1/2016 21:17</td>\n      <td>Business</td>\n      <td>Fort Pierce</td>\n      <td>Fort Pierce</td>\n      <td>5.1</td>\n      <td>Meal/Entertain</td>\n    </tr>\n    <tr>\n      <th>1</th>\n      <td>1/2/2016 1:25</td>\n      <td>1/2/2016 1:37</td>\n      <td>Business</td>\n      <td>Fort Pierce</td>\n      <td>Fort Pierce</td>\n      <td>5.0</td>\n      <td>NaN</td>\n    </tr>\n    <tr>\n      <th>2</th>\n      <td>1/2/2016 20:25</td>\n      <td>1/2/2016 20:38</td>\n      <td>Business</td>\n      <td>Fort Pierce</td>\n      <td>Fort Pierce</td>\n      <td>4.8</td>\n      <td>Errand/Supplies</td>\n    </tr>\n    <tr>\n      <th>3</th>\n      <td>1/5/2016 17:31</td>\n      <td>1/5/2016 17:45</td>\n      <td>Business</td>\n      <td>Fort Pierce</td>\n      <td>Fort Pierce</td>\n      <td>4.7</td>\n      <td>Meeting</td>\n    </tr>\n    <tr>\n      <th>4</th>\n      <td>1/6/2016 14:42</td>\n      <td>1/6/2016 15:49</td>\n      <td>Business</td>\n      <td>Fort Pierce</td>\n      <td>West Palm Beach</td>\n      <td>63.7</td>\n      <td>Customer Visit</td>\n    </tr>\n    <tr>\n      <th>...</th>\n      <td>...</td>\n      <td>...</td>\n      <td>...</td>\n      <td>...</td>\n      <td>...</td>\n      <td>...</td>\n      <td>...</td>\n    </tr>\n    <tr>\n      <th>1147</th>\n      <td>12/30/2016 15:41</td>\n      <td>12/30/2016 16:03</td>\n      <td>Business</td>\n      <td>Kar?chi</td>\n      <td>Kar?chi</td>\n      <td>4.6</td>\n      <td>Errand/Supplies</td>\n    </tr>\n    <tr>\n      <th>1148</th>\n      <td>12/30/2016 16:45</td>\n      <td>12/30/2016 17:08</td>\n      <td>Business</td>\n      <td>Kar?chi</td>\n      <td>Kar?chi</td>\n      <td>4.6</td>\n      <td>Meeting</td>\n    </tr>\n    <tr>\n      <th>1149</th>\n      <td>12/30/2016 23:06</td>\n      <td>12/30/2016 23:10</td>\n      <td>Business</td>\n      <td>Kar?chi</td>\n      <td>Kar?chi</td>\n      <td>0.8</td>\n      <td>Customer Visit</td>\n    </tr>\n    <tr>\n      <th>1150</th>\n      <td>12/31/2016 1:07</td>\n      <td>12/31/2016 1:14</td>\n      <td>Business</td>\n      <td>Kar?chi</td>\n      <td>Kar?chi</td>\n      <td>0.7</td>\n      <td>Meeting</td>\n    </tr>\n    <tr>\n      <th>1151</th>\n      <td>12/31/2016 13:24</td>\n      <td>12/31/2016 13:42</td>\n      <td>Business</td>\n      <td>Kar?chi</td>\n      <td>Unknown Location</td>\n      <td>3.9</td>\n      <td>Temporary Site</td>\n    </tr>\n  </tbody>\n</table>\n<p>1152 rows × 7 columns</p>\n</div>"
     },
     "metadata": {},
     "execution_count": 40
    }
   ],
   "source": [
    "# TO remove the last column from the dataframe that contains total\n",
    "\n",
    "df = df.iloc[:-1,:] # all the rows except the last one, all the columns\n",
    "df"
   ]
  },
  {
   "cell_type": "code",
   "execution_count": 47,
   "metadata": {},
   "outputs": [
    {
     "output_type": "execute_result",
     "data": {
      "text/plain": [
       "START_DATE*    datetime64[ns]\n",
       "END_DATE*      datetime64[ns]\n",
       "CATEGORY*              object\n",
       "START*                 object\n",
       "STOP*                  object\n",
       "MILES*                float64\n",
       "PURPOSE*               object\n",
       "dtype: object"
      ]
     },
     "metadata": {},
     "execution_count": 47
    }
   ],
   "source": [
    "# convert the start date from on=bject datatype to datetime datatype\n",
    "\n",
    "df.dtypes\n",
    "\n",
    "df['START_DATE*'] = pd.to_datetime(df['START_DATE*'])\n",
    "df['END_DATE*'] = pd.to_datetime(df['END_DATE*'])\n",
    "df.dtypes"
   ]
  }
 ]
}