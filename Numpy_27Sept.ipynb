{
 "metadata": {
  "language_info": {
   "codemirror_mode": {
    "name": "ipython",
    "version": 3
   },
   "file_extension": ".py",
   "mimetype": "text/x-python",
   "name": "python",
   "nbconvert_exporter": "python",
   "pygments_lexer": "ipython3",
   "version": "3.8.5-final"
  },
  "orig_nbformat": 2,
  "kernelspec": {
   "name": "Python 3.8.5 32-bit",
   "display_name": "Python 3.8.5 32-bit",
   "metadata": {
    "interpreter": {
     "hash": "5570a76d94786629d850b3fecaa201e4c647910ed8808b89a501e4b9a82c4c49"
    }
   }
  }
 },
 "nbformat": 4,
 "nbformat_minor": 2,
 "cells": [
  {
   "source": [
    "# Working with Zip"
   ],
   "cell_type": "markdown",
   "metadata": {}
  },
  {
   "cell_type": "code",
   "execution_count": 30,
   "metadata": {},
   "outputs": [],
   "source": [
    "list1= [1,2,3,4]\n",
    "list2= ['rajat','malvika','pooja','chandola','rashika']"
   ]
  },
  {
   "cell_type": "code",
   "execution_count": 31,
   "metadata": {
    "tags": []
   },
   "outputs": [
    {
     "output_type": "stream",
     "name": "stdout",
     "text": "(1, 'rajat')\n(2, 'malvika')\n(3, 'pooja')\n(4, 'chandola')\n"
    }
   ],
   "source": [
    "for items in zip(list1,list2):\n",
    "    print(items)"
   ]
  },
  {
   "source": [
    "## Working with Numpy \n",
    "First Lets install it"
   ],
   "cell_type": "markdown",
   "metadata": {}
  },
  {
   "cell_type": "code",
   "execution_count": 32,
   "metadata": {
    "tags": []
   },
   "outputs": [
    {
     "output_type": "stream",
     "name": "stdout",
     "text": "Requirement already satisfied: numpy in c:\\users\\rajat.prakash\\appdata\\local\\programs\\python\\python38-32\\lib\\site-packages (1.19.1)\nWARNING: You are using pip version 20.1.1; however, version 20.2.3 is available.\nYou should consider upgrading via the 'c:\\users\\rajat.prakash\\appdata\\local\\programs\\python\\python38-32\\python.exe -m pip install --upgrade pip' command.\n"
    }
   ],
   "source": [
    "!pip install numpy"
   ]
  },
  {
   "cell_type": "code",
   "execution_count": 33,
   "metadata": {},
   "outputs": [
    {
     "output_type": "execute_result",
     "data": {
      "text/plain": "array([23, 44, 66])"
     },
     "metadata": {},
     "execution_count": 33
    }
   ],
   "source": [
    "import numpy as np\n",
    "itmes = np.array([23,44,66])\n",
    "itmes"
   ]
  },
  {
   "cell_type": "code",
   "execution_count": 34,
   "metadata": {},
   "outputs": [
    {
     "output_type": "execute_result",
     "data": {
      "text/plain": "array([33.4 , 44.23, 12.3 ])"
     },
     "metadata": {},
     "execution_count": 34
    }
   ],
   "source": [
    "cost = np.array([33.4,44.23,12.3])\n",
    "cost"
   ]
  },
  {
   "source": [
    "# How numpy is faster than List\n",
    "\n",
    "Running a loop for list calculation is much slower than running the same fucntionality on numpy \n",
    "### Numpy is more than 100 times faster than list\n"
   ],
   "cell_type": "markdown",
   "metadata": {}
  },
  {
   "cell_type": "code",
   "execution_count": 35,
   "metadata": {},
   "outputs": [],
   "source": [
    "list1 = list(range(1000000))\n",
    "list2 = list(range(1000000,2000000))\n",
    "\n",
    "num_list1 = np.array(list1)\n",
    "num_list2 = np.array(list2)"
   ]
  },
  {
   "cell_type": "code",
   "execution_count": 36,
   "metadata": {
    "tags": []
   },
   "outputs": [
    {
     "output_type": "stream",
     "name": "stdout",
     "text": "Wall time: 386 ms\n"
    },
    {
     "output_type": "execute_result",
     "data": {
      "text/plain": "833332333333500000"
     },
     "metadata": {},
     "execution_count": 36
    }
   ],
   "source": [
    "%%time\n",
    "result = 0\n",
    "for i,j in zip(list1,list2):\n",
    "    result +=i*j\n",
    "result"
   ]
  },
  {
   "cell_type": "code",
   "execution_count": 37,
   "metadata": {
    "tags": []
   },
   "outputs": [
    {
     "output_type": "stream",
     "name": "stdout",
     "text": "Wall time: 1.05 ms\n"
    },
    {
     "output_type": "execute_result",
     "data": {
      "text/plain": "-1942957984"
     },
     "metadata": {},
     "execution_count": 37
    }
   ],
   "source": [
    "%%time\n",
    "np.dot(num_list1,num_list2)"
   ]
  }
 ]
}