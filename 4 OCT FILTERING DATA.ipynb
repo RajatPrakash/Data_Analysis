{
 "metadata": {
  "language_info": {
   "codemirror_mode": {
    "name": "ipython",
    "version": 3
   },
   "file_extension": ".py",
   "mimetype": "text/x-python",
   "name": "python",
   "nbconvert_exporter": "python",
   "pygments_lexer": "ipython3",
   "version": "3.8.5-final"
  },
  "orig_nbformat": 2,
  "kernelspec": {
   "name": "Python 3.8.5 32-bit ('practice')",
   "display_name": "Python 3.8.5 32-bit ('practice')",
   "metadata": {
    "interpreter": {
     "hash": "9d7b2cdceb53c8cc7f11f83acb6f07884d9aea389579ff33f36bd5da9452185f"
    }
   }
  }
 },
 "nbformat": 4,
 "nbformat_minor": 2,
 "cells": [
  {
   "cell_type": "code",
   "execution_count": 13,
   "metadata": {},
   "outputs": [],
   "source": [
    "import pandas as pd\n",
    "df = pd.read_csv(r'C:\\Users\\rajat.prakash\\Desktop\\Remote_repo\\Data\\New folder\\Uber Drives 2016.csv')"
   ]
  },
  {
   "cell_type": "code",
   "execution_count": 15,
   "metadata": {},
   "outputs": [
    {
     "output_type": "execute_result",
     "data": {
      "text/plain": "      START_DATE*       END_DATE* CATEGORY*       START*            STOP*  \\\n0  1/1/2016 21:11  1/1/2016 21:17  Business  Fort Pierce      Fort Pierce   \n1   1/2/2016 1:25   1/2/2016 1:37  Business  Fort Pierce      Fort Pierce   \n2  1/2/2016 20:25  1/2/2016 20:38  Business  Fort Pierce      Fort Pierce   \n3  1/5/2016 17:31  1/5/2016 17:45  Business  Fort Pierce      Fort Pierce   \n4  1/6/2016 14:42  1/6/2016 15:49  Business  Fort Pierce  West Palm Beach   \n\n   MILES*         PURPOSE*  \n0     5.1   Meal/Entertain  \n1     5.0              NaN  \n2     4.8  Errand/Supplies  \n3     4.7          Meeting  \n4    63.7   Customer Visit  ",
      "text/html": "<div>\n<style scoped>\n    .dataframe tbody tr th:only-of-type {\n        vertical-align: middle;\n    }\n\n    .dataframe tbody tr th {\n        vertical-align: top;\n    }\n\n    .dataframe thead th {\n        text-align: right;\n    }\n</style>\n<table border=\"1\" class=\"dataframe\">\n  <thead>\n    <tr style=\"text-align: right;\">\n      <th></th>\n      <th>START_DATE*</th>\n      <th>END_DATE*</th>\n      <th>CATEGORY*</th>\n      <th>START*</th>\n      <th>STOP*</th>\n      <th>MILES*</th>\n      <th>PURPOSE*</th>\n    </tr>\n  </thead>\n  <tbody>\n    <tr>\n      <th>0</th>\n      <td>1/1/2016 21:11</td>\n      <td>1/1/2016 21:17</td>\n      <td>Business</td>\n      <td>Fort Pierce</td>\n      <td>Fort Pierce</td>\n      <td>5.1</td>\n      <td>Meal/Entertain</td>\n    </tr>\n    <tr>\n      <th>1</th>\n      <td>1/2/2016 1:25</td>\n      <td>1/2/2016 1:37</td>\n      <td>Business</td>\n      <td>Fort Pierce</td>\n      <td>Fort Pierce</td>\n      <td>5.0</td>\n      <td>NaN</td>\n    </tr>\n    <tr>\n      <th>2</th>\n      <td>1/2/2016 20:25</td>\n      <td>1/2/2016 20:38</td>\n      <td>Business</td>\n      <td>Fort Pierce</td>\n      <td>Fort Pierce</td>\n      <td>4.8</td>\n      <td>Errand/Supplies</td>\n    </tr>\n    <tr>\n      <th>3</th>\n      <td>1/5/2016 17:31</td>\n      <td>1/5/2016 17:45</td>\n      <td>Business</td>\n      <td>Fort Pierce</td>\n      <td>Fort Pierce</td>\n      <td>4.7</td>\n      <td>Meeting</td>\n    </tr>\n    <tr>\n      <th>4</th>\n      <td>1/6/2016 14:42</td>\n      <td>1/6/2016 15:49</td>\n      <td>Business</td>\n      <td>Fort Pierce</td>\n      <td>West Palm Beach</td>\n      <td>63.7</td>\n      <td>Customer Visit</td>\n    </tr>\n  </tbody>\n</table>\n</div>"
     },
     "metadata": {},
     "execution_count": 15
    }
   ],
   "source": [
    "df.head(5)"
   ]
  },
  {
   "cell_type": "code",
   "execution_count": 34,
   "metadata": {},
   "outputs": [
    {
     "output_type": "execute_result",
     "data": {
      "text/plain": "         START_DATE*        END_DATE*    START* PURPOSE*  MILES*\n10   1/10/2016 15:08  1/10/2016 15:51  New York  Meeting    10.8\n22   1/12/2016 16:02  1/12/2016 17:00  New York  Meeting    15.1\n106  2/14/2016 16:35  2/14/2016 17:02  New York  Meeting    13.0\n423  6/10/2016 15:19  6/10/2016 16:28  New York  Meeting    16.3",
      "text/html": "<div>\n<style scoped>\n    .dataframe tbody tr th:only-of-type {\n        vertical-align: middle;\n    }\n\n    .dataframe tbody tr th {\n        vertical-align: top;\n    }\n\n    .dataframe thead th {\n        text-align: right;\n    }\n</style>\n<table border=\"1\" class=\"dataframe\">\n  <thead>\n    <tr style=\"text-align: right;\">\n      <th></th>\n      <th>START_DATE*</th>\n      <th>END_DATE*</th>\n      <th>START*</th>\n      <th>PURPOSE*</th>\n      <th>MILES*</th>\n    </tr>\n  </thead>\n  <tbody>\n    <tr>\n      <th>10</th>\n      <td>1/10/2016 15:08</td>\n      <td>1/10/2016 15:51</td>\n      <td>New York</td>\n      <td>Meeting</td>\n      <td>10.8</td>\n    </tr>\n    <tr>\n      <th>22</th>\n      <td>1/12/2016 16:02</td>\n      <td>1/12/2016 17:00</td>\n      <td>New York</td>\n      <td>Meeting</td>\n      <td>15.1</td>\n    </tr>\n    <tr>\n      <th>106</th>\n      <td>2/14/2016 16:35</td>\n      <td>2/14/2016 17:02</td>\n      <td>New York</td>\n      <td>Meeting</td>\n      <td>13.0</td>\n    </tr>\n    <tr>\n      <th>423</th>\n      <td>6/10/2016 15:19</td>\n      <td>6/10/2016 16:28</td>\n      <td>New York</td>\n      <td>Meeting</td>\n      <td>16.3</td>\n    </tr>\n  </tbody>\n</table>\n</div>"
     },
     "metadata": {},
     "execution_count": 34
    }
   ],
   "source": [
    "filtered_data = df[(df['MILES*']>10) & (df['START*'] == 'New York')][['START_DATE*','END_DATE*','START*','PURPOSE*','MILES*']]\n",
    "filtered_data"
   ]
  },
  {
   "cell_type": "code",
   "execution_count": 43,
   "metadata": {},
   "outputs": [
    {
     "output_type": "execute_result",
     "data": {
      "text/plain": "        START_DATE*        END_DATE* CATEGORY* START* STOP*  MILES*  \\\n59  1/30/2016 16:21  1/30/2016 16:33  Business   Cary  Apex     5.7   \n60  1/30/2016 18:09  1/30/2016 18:24  Business   Apex  Cary     5.7   \n\n           PURPOSE*  \n59  Errand/Supplies  \n60   Customer Visit  ",
      "text/html": "<div>\n<style scoped>\n    .dataframe tbody tr th:only-of-type {\n        vertical-align: middle;\n    }\n\n    .dataframe tbody tr th {\n        vertical-align: top;\n    }\n\n    .dataframe thead th {\n        text-align: right;\n    }\n</style>\n<table border=\"1\" class=\"dataframe\">\n  <thead>\n    <tr style=\"text-align: right;\">\n      <th></th>\n      <th>START_DATE*</th>\n      <th>END_DATE*</th>\n      <th>CATEGORY*</th>\n      <th>START*</th>\n      <th>STOP*</th>\n      <th>MILES*</th>\n      <th>PURPOSE*</th>\n    </tr>\n  </thead>\n  <tbody>\n    <tr>\n      <th>59</th>\n      <td>1/30/2016 16:21</td>\n      <td>1/30/2016 16:33</td>\n      <td>Business</td>\n      <td>Cary</td>\n      <td>Apex</td>\n      <td>5.7</td>\n      <td>Errand/Supplies</td>\n    </tr>\n    <tr>\n      <th>60</th>\n      <td>1/30/2016 18:09</td>\n      <td>1/30/2016 18:24</td>\n      <td>Business</td>\n      <td>Apex</td>\n      <td>Cary</td>\n      <td>5.7</td>\n      <td>Customer Visit</td>\n    </tr>\n  </tbody>\n</table>\n</div>"
     },
     "metadata": {},
     "execution_count": 43
    }
   ],
   "source": [
    "Start_date_filtered = df[(df['START_DATE*']  str('1/3/2016')) & (df['START_DATE*'] < str('1/5/2016'))]\n",
    "Start_date_filtered"
   ]
  }
 ]
}