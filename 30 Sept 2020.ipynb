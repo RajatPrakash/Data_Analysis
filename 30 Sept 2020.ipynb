{
 "metadata": {
  "language_info": {
   "codemirror_mode": {
    "name": "ipython",
    "version": 3
   },
   "file_extension": ".py",
   "mimetype": "text/x-python",
   "name": "python",
   "nbconvert_exporter": "python",
   "pygments_lexer": "ipython3",
   "version": "3.8.5-final"
  },
  "orig_nbformat": 2,
  "kernelspec": {
   "name": "Python 3.8.5 32-bit",
   "display_name": "Python 3.8.5 32-bit",
   "metadata": {
    "interpreter": {
     "hash": "5570a76d94786629d850b3fecaa201e4c647910ed8808b89a501e4b9a82c4c49"
    }
   }
  }
 },
 "nbformat": 4,
 "nbformat_minor": 2,
 "cells": [
  {
   "source": [
    "# 30 Sept Pandas Starting"
   ],
   "cell_type": "markdown",
   "metadata": {}
  },
  {
   "cell_type": "code",
   "execution_count": null,
   "metadata": {
    "tags": []
   },
   "outputs": [],
   "source": [
    "!pip install pandas"
   ]
  },
  {
   "cell_type": "code",
   "execution_count": 34,
   "metadata": {},
   "outputs": [],
   "source": [
    "# read the data \n",
    "import pandas as pd\n",
    "df = pd.read_csv('C:\\\\Users\\\\rajat.prakash\\\\Desktop\\\\Remote_repo\\\\Data\\\\New folder\\\\Uber Drives 2016.csv')"
   ]
  },
  {
   "cell_type": "code",
   "execution_count": 35,
   "metadata": {},
   "outputs": [
    {
     "output_type": "execute_result",
     "data": {
      "text/plain": "           START_DATE*         END_DATE* CATEGORY*            START*  \\\n0       1/1/2016 21:11    1/1/2016 21:17  Business       Fort Pierce   \n1        1/2/2016 1:25     1/2/2016 1:37  Business       Fort Pierce   \n2       1/2/2016 20:25    1/2/2016 20:38  Business       Fort Pierce   \n3       1/5/2016 17:31    1/5/2016 17:45  Business       Fort Pierce   \n4       1/6/2016 14:42    1/6/2016 15:49  Business       Fort Pierce   \n...                ...               ...       ...               ...   \n1150   12/31/2016 1:07   12/31/2016 1:14  Business           Kar?chi   \n1151  12/31/2016 13:24  12/31/2016 13:42  Business           Kar?chi   \n1152  12/31/2016 15:03  12/31/2016 15:38  Business  Unknown Location   \n1153  12/31/2016 21:32  12/31/2016 21:50  Business        Katunayake   \n1154  12/31/2016 22:08  12/31/2016 23:51  Business           Gampaha   \n\n                 STOP*  MILES*         PURPOSE*  \n0          Fort Pierce     5.1   Meal/Entertain  \n1          Fort Pierce     5.0              NaN  \n2          Fort Pierce     4.8  Errand/Supplies  \n3          Fort Pierce     4.7          Meeting  \n4      West Palm Beach    63.7   Customer Visit  \n...                ...     ...              ...  \n1150           Kar?chi     0.7          Meeting  \n1151  Unknown Location     3.9   Temporary Site  \n1152  Unknown Location    16.2          Meeting  \n1153           Gampaha     6.4   Temporary Site  \n1154         Ilukwatta    48.2   Temporary Site  \n\n[1155 rows x 7 columns]",
      "text/html": "<div>\n<style scoped>\n    .dataframe tbody tr th:only-of-type {\n        vertical-align: middle;\n    }\n\n    .dataframe tbody tr th {\n        vertical-align: top;\n    }\n\n    .dataframe thead th {\n        text-align: right;\n    }\n</style>\n<table border=\"1\" class=\"dataframe\">\n  <thead>\n    <tr style=\"text-align: right;\">\n      <th></th>\n      <th>START_DATE*</th>\n      <th>END_DATE*</th>\n      <th>CATEGORY*</th>\n      <th>START*</th>\n      <th>STOP*</th>\n      <th>MILES*</th>\n      <th>PURPOSE*</th>\n    </tr>\n  </thead>\n  <tbody>\n    <tr>\n      <th>0</th>\n      <td>1/1/2016 21:11</td>\n      <td>1/1/2016 21:17</td>\n      <td>Business</td>\n      <td>Fort Pierce</td>\n      <td>Fort Pierce</td>\n      <td>5.1</td>\n      <td>Meal/Entertain</td>\n    </tr>\n    <tr>\n      <th>1</th>\n      <td>1/2/2016 1:25</td>\n      <td>1/2/2016 1:37</td>\n      <td>Business</td>\n      <td>Fort Pierce</td>\n      <td>Fort Pierce</td>\n      <td>5.0</td>\n      <td>NaN</td>\n    </tr>\n    <tr>\n      <th>2</th>\n      <td>1/2/2016 20:25</td>\n      <td>1/2/2016 20:38</td>\n      <td>Business</td>\n      <td>Fort Pierce</td>\n      <td>Fort Pierce</td>\n      <td>4.8</td>\n      <td>Errand/Supplies</td>\n    </tr>\n    <tr>\n      <th>3</th>\n      <td>1/5/2016 17:31</td>\n      <td>1/5/2016 17:45</td>\n      <td>Business</td>\n      <td>Fort Pierce</td>\n      <td>Fort Pierce</td>\n      <td>4.7</td>\n      <td>Meeting</td>\n    </tr>\n    <tr>\n      <th>4</th>\n      <td>1/6/2016 14:42</td>\n      <td>1/6/2016 15:49</td>\n      <td>Business</td>\n      <td>Fort Pierce</td>\n      <td>West Palm Beach</td>\n      <td>63.7</td>\n      <td>Customer Visit</td>\n    </tr>\n    <tr>\n      <th>...</th>\n      <td>...</td>\n      <td>...</td>\n      <td>...</td>\n      <td>...</td>\n      <td>...</td>\n      <td>...</td>\n      <td>...</td>\n    </tr>\n    <tr>\n      <th>1150</th>\n      <td>12/31/2016 1:07</td>\n      <td>12/31/2016 1:14</td>\n      <td>Business</td>\n      <td>Kar?chi</td>\n      <td>Kar?chi</td>\n      <td>0.7</td>\n      <td>Meeting</td>\n    </tr>\n    <tr>\n      <th>1151</th>\n      <td>12/31/2016 13:24</td>\n      <td>12/31/2016 13:42</td>\n      <td>Business</td>\n      <td>Kar?chi</td>\n      <td>Unknown Location</td>\n      <td>3.9</td>\n      <td>Temporary Site</td>\n    </tr>\n    <tr>\n      <th>1152</th>\n      <td>12/31/2016 15:03</td>\n      <td>12/31/2016 15:38</td>\n      <td>Business</td>\n      <td>Unknown Location</td>\n      <td>Unknown Location</td>\n      <td>16.2</td>\n      <td>Meeting</td>\n    </tr>\n    <tr>\n      <th>1153</th>\n      <td>12/31/2016 21:32</td>\n      <td>12/31/2016 21:50</td>\n      <td>Business</td>\n      <td>Katunayake</td>\n      <td>Gampaha</td>\n      <td>6.4</td>\n      <td>Temporary Site</td>\n    </tr>\n    <tr>\n      <th>1154</th>\n      <td>12/31/2016 22:08</td>\n      <td>12/31/2016 23:51</td>\n      <td>Business</td>\n      <td>Gampaha</td>\n      <td>Ilukwatta</td>\n      <td>48.2</td>\n      <td>Temporary Site</td>\n    </tr>\n  </tbody>\n</table>\n<p>1155 rows × 7 columns</p>\n</div>"
     },
     "metadata": {},
     "execution_count": 35
    }
   ],
   "source": [
    "df"
   ]
  },
  {
   "source": [
    "## Check the datatype of all columns in the CSV"
   ],
   "cell_type": "markdown",
   "metadata": {}
  },
  {
   "cell_type": "code",
   "execution_count": null,
   "metadata": {},
   "outputs": [],
   "source": [
    "# Each columns data types is showing \n",
    "df.dtypes"
   ]
  },
  {
   "source": [
    "## If you just want to see few lines of data from csv that contains millions rows "
   ],
   "cell_type": "markdown",
   "metadata": {}
  },
  {
   "cell_type": "code",
   "execution_count": 45,
   "metadata": {},
   "outputs": [
    {
     "output_type": "execute_result",
     "data": {
      "text/plain": "          START_DATE*       END_DATE* CATEGORY*       START*            STOP*  \\\n0 2016-01-01 21:11:00  1/1/2016 21:17  Business  Fort Pierce      Fort Pierce   \n1 2016-01-02 01:25:00   1/2/2016 1:37  Business  Fort Pierce      Fort Pierce   \n2 2016-01-02 20:25:00  1/2/2016 20:38  Business  Fort Pierce      Fort Pierce   \n3 2016-01-05 17:31:00  1/5/2016 17:45  Business  Fort Pierce      Fort Pierce   \n4 2016-01-06 14:42:00  1/6/2016 15:49  Business  Fort Pierce  West Palm Beach   \n\n   MILES*         PURPOSE*  \n0     5.1   Meal/Entertain  \n1     5.0              NaN  \n2     4.8  Errand/Supplies  \n3     4.7          Meeting  \n4    63.7   Customer Visit  ",
      "text/html": "<div>\n<style scoped>\n    .dataframe tbody tr th:only-of-type {\n        vertical-align: middle;\n    }\n\n    .dataframe tbody tr th {\n        vertical-align: top;\n    }\n\n    .dataframe thead th {\n        text-align: right;\n    }\n</style>\n<table border=\"1\" class=\"dataframe\">\n  <thead>\n    <tr style=\"text-align: right;\">\n      <th></th>\n      <th>START_DATE*</th>\n      <th>END_DATE*</th>\n      <th>CATEGORY*</th>\n      <th>START*</th>\n      <th>STOP*</th>\n      <th>MILES*</th>\n      <th>PURPOSE*</th>\n    </tr>\n  </thead>\n  <tbody>\n    <tr>\n      <th>0</th>\n      <td>2016-01-01 21:11:00</td>\n      <td>1/1/2016 21:17</td>\n      <td>Business</td>\n      <td>Fort Pierce</td>\n      <td>Fort Pierce</td>\n      <td>5.1</td>\n      <td>Meal/Entertain</td>\n    </tr>\n    <tr>\n      <th>1</th>\n      <td>2016-01-02 01:25:00</td>\n      <td>1/2/2016 1:37</td>\n      <td>Business</td>\n      <td>Fort Pierce</td>\n      <td>Fort Pierce</td>\n      <td>5.0</td>\n      <td>NaN</td>\n    </tr>\n    <tr>\n      <th>2</th>\n      <td>2016-01-02 20:25:00</td>\n      <td>1/2/2016 20:38</td>\n      <td>Business</td>\n      <td>Fort Pierce</td>\n      <td>Fort Pierce</td>\n      <td>4.8</td>\n      <td>Errand/Supplies</td>\n    </tr>\n    <tr>\n      <th>3</th>\n      <td>2016-01-05 17:31:00</td>\n      <td>1/5/2016 17:45</td>\n      <td>Business</td>\n      <td>Fort Pierce</td>\n      <td>Fort Pierce</td>\n      <td>4.7</td>\n      <td>Meeting</td>\n    </tr>\n    <tr>\n      <th>4</th>\n      <td>2016-01-06 14:42:00</td>\n      <td>1/6/2016 15:49</td>\n      <td>Business</td>\n      <td>Fort Pierce</td>\n      <td>West Palm Beach</td>\n      <td>63.7</td>\n      <td>Customer Visit</td>\n    </tr>\n  </tbody>\n</table>\n</div>"
     },
     "metadata": {},
     "execution_count": 45
    }
   ],
   "source": [
    "df.head() # this is generate on the first 5 lines of csv"
   ]
  },
  {
   "cell_type": "code",
   "execution_count": null,
   "metadata": {},
   "outputs": [],
   "source": [
    "df.shape # Number of rows and columns "
   ]
  },
  {
   "cell_type": "code",
   "execution_count": 36,
   "metadata": {},
   "outputs": [
    {
     "output_type": "execute_result",
     "data": {
      "text/plain": "           START_DATE*         END_DATE* CATEGORY*            START*  \\\n0       1/1/2016 21:11    1/1/2016 21:17  Business       Fort Pierce   \n1        1/2/2016 1:25     1/2/2016 1:37  Business       Fort Pierce   \n2       1/2/2016 20:25    1/2/2016 20:38  Business       Fort Pierce   \n3       1/5/2016 17:31    1/5/2016 17:45  Business       Fort Pierce   \n4       1/6/2016 14:42    1/6/2016 15:49  Business       Fort Pierce   \n...                ...               ...       ...               ...   \n1150   12/31/2016 1:07   12/31/2016 1:14  Business           Kar?chi   \n1151  12/31/2016 13:24  12/31/2016 13:42  Business           Kar?chi   \n1152  12/31/2016 15:03  12/31/2016 15:38  Business  Unknown Location   \n1153  12/31/2016 21:32  12/31/2016 21:50  Business        Katunayake   \n1154  12/31/2016 22:08  12/31/2016 23:51  Business           Gampaha   \n\n                 STOP*  MILES*         PURPOSE*  \n0          Fort Pierce     5.1   Meal/Entertain  \n1          Fort Pierce     5.0              NaN  \n2          Fort Pierce     4.8  Errand/Supplies  \n3          Fort Pierce     4.7          Meeting  \n4      West Palm Beach    63.7   Customer Visit  \n...                ...     ...              ...  \n1150           Kar?chi     0.7          Meeting  \n1151  Unknown Location     3.9   Temporary Site  \n1152  Unknown Location    16.2          Meeting  \n1153           Gampaha     6.4   Temporary Site  \n1154         Ilukwatta    48.2   Temporary Site  \n\n[1155 rows x 7 columns]",
      "text/html": "<div>\n<style scoped>\n    .dataframe tbody tr th:only-of-type {\n        vertical-align: middle;\n    }\n\n    .dataframe tbody tr th {\n        vertical-align: top;\n    }\n\n    .dataframe thead th {\n        text-align: right;\n    }\n</style>\n<table border=\"1\" class=\"dataframe\">\n  <thead>\n    <tr style=\"text-align: right;\">\n      <th></th>\n      <th>START_DATE*</th>\n      <th>END_DATE*</th>\n      <th>CATEGORY*</th>\n      <th>START*</th>\n      <th>STOP*</th>\n      <th>MILES*</th>\n      <th>PURPOSE*</th>\n    </tr>\n  </thead>\n  <tbody>\n    <tr>\n      <th>0</th>\n      <td>1/1/2016 21:11</td>\n      <td>1/1/2016 21:17</td>\n      <td>Business</td>\n      <td>Fort Pierce</td>\n      <td>Fort Pierce</td>\n      <td>5.1</td>\n      <td>Meal/Entertain</td>\n    </tr>\n    <tr>\n      <th>1</th>\n      <td>1/2/2016 1:25</td>\n      <td>1/2/2016 1:37</td>\n      <td>Business</td>\n      <td>Fort Pierce</td>\n      <td>Fort Pierce</td>\n      <td>5.0</td>\n      <td>NaN</td>\n    </tr>\n    <tr>\n      <th>2</th>\n      <td>1/2/2016 20:25</td>\n      <td>1/2/2016 20:38</td>\n      <td>Business</td>\n      <td>Fort Pierce</td>\n      <td>Fort Pierce</td>\n      <td>4.8</td>\n      <td>Errand/Supplies</td>\n    </tr>\n    <tr>\n      <th>3</th>\n      <td>1/5/2016 17:31</td>\n      <td>1/5/2016 17:45</td>\n      <td>Business</td>\n      <td>Fort Pierce</td>\n      <td>Fort Pierce</td>\n      <td>4.7</td>\n      <td>Meeting</td>\n    </tr>\n    <tr>\n      <th>4</th>\n      <td>1/6/2016 14:42</td>\n      <td>1/6/2016 15:49</td>\n      <td>Business</td>\n      <td>Fort Pierce</td>\n      <td>West Palm Beach</td>\n      <td>63.7</td>\n      <td>Customer Visit</td>\n    </tr>\n    <tr>\n      <th>...</th>\n      <td>...</td>\n      <td>...</td>\n      <td>...</td>\n      <td>...</td>\n      <td>...</td>\n      <td>...</td>\n      <td>...</td>\n    </tr>\n    <tr>\n      <th>1150</th>\n      <td>12/31/2016 1:07</td>\n      <td>12/31/2016 1:14</td>\n      <td>Business</td>\n      <td>Kar?chi</td>\n      <td>Kar?chi</td>\n      <td>0.7</td>\n      <td>Meeting</td>\n    </tr>\n    <tr>\n      <th>1151</th>\n      <td>12/31/2016 13:24</td>\n      <td>12/31/2016 13:42</td>\n      <td>Business</td>\n      <td>Kar?chi</td>\n      <td>Unknown Location</td>\n      <td>3.9</td>\n      <td>Temporary Site</td>\n    </tr>\n    <tr>\n      <th>1152</th>\n      <td>12/31/2016 15:03</td>\n      <td>12/31/2016 15:38</td>\n      <td>Business</td>\n      <td>Unknown Location</td>\n      <td>Unknown Location</td>\n      <td>16.2</td>\n      <td>Meeting</td>\n    </tr>\n    <tr>\n      <th>1153</th>\n      <td>12/31/2016 21:32</td>\n      <td>12/31/2016 21:50</td>\n      <td>Business</td>\n      <td>Katunayake</td>\n      <td>Gampaha</td>\n      <td>6.4</td>\n      <td>Temporary Site</td>\n    </tr>\n    <tr>\n      <th>1154</th>\n      <td>12/31/2016 22:08</td>\n      <td>12/31/2016 23:51</td>\n      <td>Business</td>\n      <td>Gampaha</td>\n      <td>Ilukwatta</td>\n      <td>48.2</td>\n      <td>Temporary Site</td>\n    </tr>\n  </tbody>\n</table>\n<p>1155 rows × 7 columns</p>\n</div>"
     },
     "metadata": {},
     "execution_count": 36
    }
   ],
   "source": [
    "df.tail() # print last columns of data frame \n",
    "\n",
    "df"
   ]
  },
  {
   "source": [
    "## Converting the data type of column strart date from string to Date time"
   ],
   "cell_type": "markdown",
   "metadata": {}
  },
  {
   "cell_type": "code",
   "execution_count": 46,
   "metadata": {},
   "outputs": [],
   "source": [
    "df['START_DATE*'] = pd.to_datetime(df['START_DATE*'])\n",
    "\n",
    "# converting the data type of end date as well\n",
    "\n",
    "df['END_DATE*'] = pd.to_datetime(df['END_DATE*'])"
   ]
  },
  {
   "cell_type": "code",
   "execution_count": 43,
   "metadata": {},
   "outputs": [
    {
     "output_type": "execute_result",
     "data": {
      "text/plain": "START_DATE*    datetime64[ns]\nEND_DATE*              object\nCATEGORY*              object\nSTART*                 object\nSTOP*                  object\nMILES*                float64\nPURPOSE*               object\ndtype: object"
     },
     "metadata": {},
     "execution_count": 43
    }
   ],
   "source": [
    "df.dtypes"
   ]
  },
  {
   "cell_type": "code",
   "execution_count": 44,
   "metadata": {},
   "outputs": [
    {
     "output_type": "execute_result",
     "data": {
      "text/plain": "             START_DATE*         END_DATE* CATEGORY*            START*  \\\n0    2016-01-01 21:11:00    1/1/2016 21:17  Business       Fort Pierce   \n1    2016-01-02 01:25:00     1/2/2016 1:37  Business       Fort Pierce   \n2    2016-01-02 20:25:00    1/2/2016 20:38  Business       Fort Pierce   \n3    2016-01-05 17:31:00    1/5/2016 17:45  Business       Fort Pierce   \n4    2016-01-06 14:42:00    1/6/2016 15:49  Business       Fort Pierce   \n...                  ...               ...       ...               ...   \n1150 2016-12-31 01:07:00   12/31/2016 1:14  Business           Kar?chi   \n1151 2016-12-31 13:24:00  12/31/2016 13:42  Business           Kar?chi   \n1152 2016-12-31 15:03:00  12/31/2016 15:38  Business  Unknown Location   \n1153 2016-12-31 21:32:00  12/31/2016 21:50  Business        Katunayake   \n1154 2016-12-31 22:08:00  12/31/2016 23:51  Business           Gampaha   \n\n                 STOP*  MILES*         PURPOSE*  \n0          Fort Pierce     5.1   Meal/Entertain  \n1          Fort Pierce     5.0              NaN  \n2          Fort Pierce     4.8  Errand/Supplies  \n3          Fort Pierce     4.7          Meeting  \n4      West Palm Beach    63.7   Customer Visit  \n...                ...     ...              ...  \n1150           Kar?chi     0.7          Meeting  \n1151  Unknown Location     3.9   Temporary Site  \n1152  Unknown Location    16.2          Meeting  \n1153           Gampaha     6.4   Temporary Site  \n1154         Ilukwatta    48.2   Temporary Site  \n\n[1155 rows x 7 columns]",
      "text/html": "<div>\n<style scoped>\n    .dataframe tbody tr th:only-of-type {\n        vertical-align: middle;\n    }\n\n    .dataframe tbody tr th {\n        vertical-align: top;\n    }\n\n    .dataframe thead th {\n        text-align: right;\n    }\n</style>\n<table border=\"1\" class=\"dataframe\">\n  <thead>\n    <tr style=\"text-align: right;\">\n      <th></th>\n      <th>START_DATE*</th>\n      <th>END_DATE*</th>\n      <th>CATEGORY*</th>\n      <th>START*</th>\n      <th>STOP*</th>\n      <th>MILES*</th>\n      <th>PURPOSE*</th>\n    </tr>\n  </thead>\n  <tbody>\n    <tr>\n      <th>0</th>\n      <td>2016-01-01 21:11:00</td>\n      <td>1/1/2016 21:17</td>\n      <td>Business</td>\n      <td>Fort Pierce</td>\n      <td>Fort Pierce</td>\n      <td>5.1</td>\n      <td>Meal/Entertain</td>\n    </tr>\n    <tr>\n      <th>1</th>\n      <td>2016-01-02 01:25:00</td>\n      <td>1/2/2016 1:37</td>\n      <td>Business</td>\n      <td>Fort Pierce</td>\n      <td>Fort Pierce</td>\n      <td>5.0</td>\n      <td>NaN</td>\n    </tr>\n    <tr>\n      <th>2</th>\n      <td>2016-01-02 20:25:00</td>\n      <td>1/2/2016 20:38</td>\n      <td>Business</td>\n      <td>Fort Pierce</td>\n      <td>Fort Pierce</td>\n      <td>4.8</td>\n      <td>Errand/Supplies</td>\n    </tr>\n    <tr>\n      <th>3</th>\n      <td>2016-01-05 17:31:00</td>\n      <td>1/5/2016 17:45</td>\n      <td>Business</td>\n      <td>Fort Pierce</td>\n      <td>Fort Pierce</td>\n      <td>4.7</td>\n      <td>Meeting</td>\n    </tr>\n    <tr>\n      <th>4</th>\n      <td>2016-01-06 14:42:00</td>\n      <td>1/6/2016 15:49</td>\n      <td>Business</td>\n      <td>Fort Pierce</td>\n      <td>West Palm Beach</td>\n      <td>63.7</td>\n      <td>Customer Visit</td>\n    </tr>\n    <tr>\n      <th>...</th>\n      <td>...</td>\n      <td>...</td>\n      <td>...</td>\n      <td>...</td>\n      <td>...</td>\n      <td>...</td>\n      <td>...</td>\n    </tr>\n    <tr>\n      <th>1150</th>\n      <td>2016-12-31 01:07:00</td>\n      <td>12/31/2016 1:14</td>\n      <td>Business</td>\n      <td>Kar?chi</td>\n      <td>Kar?chi</td>\n      <td>0.7</td>\n      <td>Meeting</td>\n    </tr>\n    <tr>\n      <th>1151</th>\n      <td>2016-12-31 13:24:00</td>\n      <td>12/31/2016 13:42</td>\n      <td>Business</td>\n      <td>Kar?chi</td>\n      <td>Unknown Location</td>\n      <td>3.9</td>\n      <td>Temporary Site</td>\n    </tr>\n    <tr>\n      <th>1152</th>\n      <td>2016-12-31 15:03:00</td>\n      <td>12/31/2016 15:38</td>\n      <td>Business</td>\n      <td>Unknown Location</td>\n      <td>Unknown Location</td>\n      <td>16.2</td>\n      <td>Meeting</td>\n    </tr>\n    <tr>\n      <th>1153</th>\n      <td>2016-12-31 21:32:00</td>\n      <td>12/31/2016 21:50</td>\n      <td>Business</td>\n      <td>Katunayake</td>\n      <td>Gampaha</td>\n      <td>6.4</td>\n      <td>Temporary Site</td>\n    </tr>\n    <tr>\n      <th>1154</th>\n      <td>2016-12-31 22:08:00</td>\n      <td>12/31/2016 23:51</td>\n      <td>Business</td>\n      <td>Gampaha</td>\n      <td>Ilukwatta</td>\n      <td>48.2</td>\n      <td>Temporary Site</td>\n    </tr>\n  </tbody>\n</table>\n<p>1155 rows × 7 columns</p>\n</div>"
     },
     "metadata": {},
     "execution_count": 44
    }
   ],
   "source": [
    "df"
   ]
  },
  {
   "cell_type": "code",
   "execution_count": 47,
   "metadata": {},
   "outputs": [
    {
     "output_type": "execute_result",
     "data": {
      "text/plain": "             START_DATE*           END_DATE* CATEGORY*            START*  \\\n0    2016-01-01 21:11:00 2016-01-01 21:17:00  Business       Fort Pierce   \n1    2016-01-02 01:25:00 2016-01-02 01:37:00  Business       Fort Pierce   \n2    2016-01-02 20:25:00 2016-01-02 20:38:00  Business       Fort Pierce   \n3    2016-01-05 17:31:00 2016-01-05 17:45:00  Business       Fort Pierce   \n4    2016-01-06 14:42:00 2016-01-06 15:49:00  Business       Fort Pierce   \n...                  ...                 ...       ...               ...   \n1150 2016-12-31 01:07:00 2016-12-31 01:14:00  Business           Kar?chi   \n1151 2016-12-31 13:24:00 2016-12-31 13:42:00  Business           Kar?chi   \n1152 2016-12-31 15:03:00 2016-12-31 15:38:00  Business  Unknown Location   \n1153 2016-12-31 21:32:00 2016-12-31 21:50:00  Business        Katunayake   \n1154 2016-12-31 22:08:00 2016-12-31 23:51:00  Business           Gampaha   \n\n                 STOP*  MILES*         PURPOSE*  \n0          Fort Pierce     5.1   Meal/Entertain  \n1          Fort Pierce     5.0              NaN  \n2          Fort Pierce     4.8  Errand/Supplies  \n3          Fort Pierce     4.7          Meeting  \n4      West Palm Beach    63.7   Customer Visit  \n...                ...     ...              ...  \n1150           Kar?chi     0.7          Meeting  \n1151  Unknown Location     3.9   Temporary Site  \n1152  Unknown Location    16.2          Meeting  \n1153           Gampaha     6.4   Temporary Site  \n1154         Ilukwatta    48.2   Temporary Site  \n\n[1155 rows x 7 columns]",
      "text/html": "<div>\n<style scoped>\n    .dataframe tbody tr th:only-of-type {\n        vertical-align: middle;\n    }\n\n    .dataframe tbody tr th {\n        vertical-align: top;\n    }\n\n    .dataframe thead th {\n        text-align: right;\n    }\n</style>\n<table border=\"1\" class=\"dataframe\">\n  <thead>\n    <tr style=\"text-align: right;\">\n      <th></th>\n      <th>START_DATE*</th>\n      <th>END_DATE*</th>\n      <th>CATEGORY*</th>\n      <th>START*</th>\n      <th>STOP*</th>\n      <th>MILES*</th>\n      <th>PURPOSE*</th>\n    </tr>\n  </thead>\n  <tbody>\n    <tr>\n      <th>0</th>\n      <td>2016-01-01 21:11:00</td>\n      <td>2016-01-01 21:17:00</td>\n      <td>Business</td>\n      <td>Fort Pierce</td>\n      <td>Fort Pierce</td>\n      <td>5.1</td>\n      <td>Meal/Entertain</td>\n    </tr>\n    <tr>\n      <th>1</th>\n      <td>2016-01-02 01:25:00</td>\n      <td>2016-01-02 01:37:00</td>\n      <td>Business</td>\n      <td>Fort Pierce</td>\n      <td>Fort Pierce</td>\n      <td>5.0</td>\n      <td>NaN</td>\n    </tr>\n    <tr>\n      <th>2</th>\n      <td>2016-01-02 20:25:00</td>\n      <td>2016-01-02 20:38:00</td>\n      <td>Business</td>\n      <td>Fort Pierce</td>\n      <td>Fort Pierce</td>\n      <td>4.8</td>\n      <td>Errand/Supplies</td>\n    </tr>\n    <tr>\n      <th>3</th>\n      <td>2016-01-05 17:31:00</td>\n      <td>2016-01-05 17:45:00</td>\n      <td>Business</td>\n      <td>Fort Pierce</td>\n      <td>Fort Pierce</td>\n      <td>4.7</td>\n      <td>Meeting</td>\n    </tr>\n    <tr>\n      <th>4</th>\n      <td>2016-01-06 14:42:00</td>\n      <td>2016-01-06 15:49:00</td>\n      <td>Business</td>\n      <td>Fort Pierce</td>\n      <td>West Palm Beach</td>\n      <td>63.7</td>\n      <td>Customer Visit</td>\n    </tr>\n    <tr>\n      <th>...</th>\n      <td>...</td>\n      <td>...</td>\n      <td>...</td>\n      <td>...</td>\n      <td>...</td>\n      <td>...</td>\n      <td>...</td>\n    </tr>\n    <tr>\n      <th>1150</th>\n      <td>2016-12-31 01:07:00</td>\n      <td>2016-12-31 01:14:00</td>\n      <td>Business</td>\n      <td>Kar?chi</td>\n      <td>Kar?chi</td>\n      <td>0.7</td>\n      <td>Meeting</td>\n    </tr>\n    <tr>\n      <th>1151</th>\n      <td>2016-12-31 13:24:00</td>\n      <td>2016-12-31 13:42:00</td>\n      <td>Business</td>\n      <td>Kar?chi</td>\n      <td>Unknown Location</td>\n      <td>3.9</td>\n      <td>Temporary Site</td>\n    </tr>\n    <tr>\n      <th>1152</th>\n      <td>2016-12-31 15:03:00</td>\n      <td>2016-12-31 15:38:00</td>\n      <td>Business</td>\n      <td>Unknown Location</td>\n      <td>Unknown Location</td>\n      <td>16.2</td>\n      <td>Meeting</td>\n    </tr>\n    <tr>\n      <th>1153</th>\n      <td>2016-12-31 21:32:00</td>\n      <td>2016-12-31 21:50:00</td>\n      <td>Business</td>\n      <td>Katunayake</td>\n      <td>Gampaha</td>\n      <td>6.4</td>\n      <td>Temporary Site</td>\n    </tr>\n    <tr>\n      <th>1154</th>\n      <td>2016-12-31 22:08:00</td>\n      <td>2016-12-31 23:51:00</td>\n      <td>Business</td>\n      <td>Gampaha</td>\n      <td>Ilukwatta</td>\n      <td>48.2</td>\n      <td>Temporary Site</td>\n    </tr>\n  </tbody>\n</table>\n<p>1155 rows × 7 columns</p>\n</div>"
     },
     "metadata": {},
     "execution_count": 47
    }
   ],
   "source": [
    "df #Difference in the end ddte data type in the data frame itself"
   ]
  }
 ]
}