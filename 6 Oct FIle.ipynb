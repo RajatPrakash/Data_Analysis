{
 "metadata": {
  "language_info": {
   "codemirror_mode": {
    "name": "ipython",
    "version": 3
   },
   "file_extension": ".py",
   "mimetype": "text/x-python",
   "name": "python",
   "nbconvert_exporter": "python",
   "pygments_lexer": "ipython3",
   "version": "3.8.2-final"
  },
  "orig_nbformat": 2,
  "kernelspec": {
   "name": "python38232bitvenvvenve4d510f88e0c427b94efee3eb591e847",
   "display_name": "Python 3.8.2 32-bit ('venv': venv)",
   "metadata": {
    "interpreter": {
     "hash": "5570a76d94786629d850b3fecaa201e4c647910ed8808b89a501e4b9a82c4c49"
    }
   }
  }
 },
 "nbformat": 4,
 "nbformat_minor": 2,
 "cells": [
  {
   "cell_type": "code",
   "execution_count": 2,
   "metadata": {},
   "outputs": [
    {
     "output_type": "execute_result",
     "data": {
      "text/plain": "Index([&#39;START_DATE*&#39;, &#39;END_DATE*&#39;, &#39;CATEGORY*&#39;, &#39;START*&#39;, &#39;STOP*&#39;, &#39;MILES*&#39;,\n       &#39;PURPOSE*&#39;],\n      dtype=&#39;object&#39;)"
     },
     "metadata": {},
     "execution_count": 2
    }
   ],
   "source": [
    "import pandas as pd\n",
    "df = pd.read_csv(r'C:\\Users\\rajat.prakash\\Desktop\\Remote_repo\\Data\\Data_Analysis\\Files\\Uber Drives 2016.csv')\n",
    "df.columns"
   ]
  },
  {
   "cell_type": "code",
   "execution_count": 18,
   "metadata": {},
   "outputs": [
    {
     "output_type": "execute_result",
     "data": {
      "text/plain": "         START_DATE*        END_DATE*\n9    1/10/2016 12:17  1/10/2016 12:44\n11   1/10/2016 18:18  1/10/2016 18:53\n104  2/14/2016 14:07  2/14/2016 14:40\n416   6/8/2016 12:04   6/8/2016 13:01",
      "text/html": "<div>\n<style scoped>\n    .dataframe tbody tr th:only-of-type {\n        vertical-align: middle;\n    }\n\n    .dataframe tbody tr th {\n        vertical-align: top;\n    }\n\n    .dataframe thead th {\n        text-align: right;\n    }\n</style>\n<table border=\"1\" class=\"dataframe\">\n  <thead>\n    <tr style=\"text-align: right;\">\n      <th></th>\n      <th>START_DATE*</th>\n      <th>END_DATE*</th>\n    </tr>\n  </thead>\n  <tbody>\n    <tr>\n      <th>9</th>\n      <td>1/10/2016 12:17</td>\n      <td>1/10/2016 12:44</td>\n    </tr>\n    <tr>\n      <th>11</th>\n      <td>1/10/2016 18:18</td>\n      <td>1/10/2016 18:53</td>\n    </tr>\n    <tr>\n      <th>104</th>\n      <td>2/14/2016 14:07</td>\n      <td>2/14/2016 14:40</td>\n    </tr>\n    <tr>\n      <th>416</th>\n      <td>6/8/2016 12:04</td>\n      <td>6/8/2016 13:01</td>\n    </tr>\n  </tbody>\n</table>\n</div>"
     },
     "metadata": {},
     "execution_count": 18
    }
   ],
   "source": [
    "test = df.loc[df['STOP*'] == 'New York',['START_DATE*','END_DATE*']]\n",
    "test"
   ]
  },
  {
   "cell_type": "code",
   "execution_count": 23,
   "metadata": {},
   "outputs": [
    {
     "output_type": "execute_result",
     "data": {
      "text/plain": "         START_DATE*        END_DATE*  ... MILES* PURPOSE*\n500    7/1/2016 0:00    7/1/2016 0:25  ...    9.9  Meeting\n501    7/1/2016 9:34    7/1/2016 9:57  ...   13.3  Meeting\n502   7/1/2016 12:36   7/1/2016 13:00  ...   11.3  Meeting\n503   7/1/2016 20:06   7/1/2016 20:24  ...   10.5  Meeting\n504   7/1/2016 23:48    7/2/2016 0:09  ...    9.9  Meeting\n..               ...              ...  ...    ...      ...\n776  9/27/2016 21:01   9/28/2016 2:37  ...  195.6      NaN\n777  9/28/2016 17:21  9/28/2016 19:36  ...   20.5      NaN\n778  9/29/2016 16:13  9/29/2016 18:47  ...   12.6      NaN\n779  9/30/2016 17:39  9/30/2016 20:20  ...   37.7      NaN\n780  9/30/2016 20:59  9/30/2016 22:34  ...   16.7      NaN\n\n[281 rows x 7 columns]",
      "text/html": "<div>\n<style scoped>\n    .dataframe tbody tr th:only-of-type {\n        vertical-align: middle;\n    }\n\n    .dataframe tbody tr th {\n        vertical-align: top;\n    }\n\n    .dataframe thead th {\n        text-align: right;\n    }\n</style>\n<table border=\"1\" class=\"dataframe\">\n  <thead>\n    <tr style=\"text-align: right;\">\n      <th></th>\n      <th>START_DATE*</th>\n      <th>END_DATE*</th>\n      <th>CATEGORY*</th>\n      <th>START*</th>\n      <th>STOP*</th>\n      <th>MILES*</th>\n      <th>PURPOSE*</th>\n    </tr>\n  </thead>\n  <tbody>\n    <tr>\n      <th>500</th>\n      <td>7/1/2016 0:00</td>\n      <td>7/1/2016 0:25</td>\n      <td>Business</td>\n      <td>Durham</td>\n      <td>Cary</td>\n      <td>9.9</td>\n      <td>Meeting</td>\n    </tr>\n    <tr>\n      <th>501</th>\n      <td>7/1/2016 9:34</td>\n      <td>7/1/2016 9:57</td>\n      <td>Business</td>\n      <td>Cary</td>\n      <td>Raleigh</td>\n      <td>13.3</td>\n      <td>Meeting</td>\n    </tr>\n    <tr>\n      <th>502</th>\n      <td>7/1/2016 12:36</td>\n      <td>7/1/2016 13:00</td>\n      <td>Business</td>\n      <td>Raleigh</td>\n      <td>Cary</td>\n      <td>11.3</td>\n      <td>Meeting</td>\n    </tr>\n    <tr>\n      <th>503</th>\n      <td>7/1/2016 20:06</td>\n      <td>7/1/2016 20:24</td>\n      <td>Business</td>\n      <td>Cary</td>\n      <td>Durham</td>\n      <td>10.5</td>\n      <td>Meeting</td>\n    </tr>\n    <tr>\n      <th>504</th>\n      <td>7/1/2016 23:48</td>\n      <td>7/2/2016 0:09</td>\n      <td>Business</td>\n      <td>Durham</td>\n      <td>Cary</td>\n      <td>9.9</td>\n      <td>Meeting</td>\n    </tr>\n    <tr>\n      <th>...</th>\n      <td>...</td>\n      <td>...</td>\n      <td>...</td>\n      <td>...</td>\n      <td>...</td>\n      <td>...</td>\n      <td>...</td>\n    </tr>\n    <tr>\n      <th>776</th>\n      <td>9/27/2016 21:01</td>\n      <td>9/28/2016 2:37</td>\n      <td>Business</td>\n      <td>Unknown Location</td>\n      <td>Unknown Location</td>\n      <td>195.6</td>\n      <td>NaN</td>\n    </tr>\n    <tr>\n      <th>777</th>\n      <td>9/28/2016 17:21</td>\n      <td>9/28/2016 19:36</td>\n      <td>Business</td>\n      <td>Islamabad</td>\n      <td>Unknown Location</td>\n      <td>20.5</td>\n      <td>NaN</td>\n    </tr>\n    <tr>\n      <th>778</th>\n      <td>9/29/2016 16:13</td>\n      <td>9/29/2016 18:47</td>\n      <td>Business</td>\n      <td>Unknown Location</td>\n      <td>Islamabad</td>\n      <td>12.6</td>\n      <td>NaN</td>\n    </tr>\n    <tr>\n      <th>779</th>\n      <td>9/30/2016 17:39</td>\n      <td>9/30/2016 20:20</td>\n      <td>Business</td>\n      <td>Islamabad</td>\n      <td>Islamabad</td>\n      <td>37.7</td>\n      <td>NaN</td>\n    </tr>\n    <tr>\n      <th>780</th>\n      <td>9/30/2016 20:59</td>\n      <td>9/30/2016 22:34</td>\n      <td>Business</td>\n      <td>Islamabad</td>\n      <td>Unknown Location</td>\n      <td>16.7</td>\n      <td>NaN</td>\n    </tr>\n  </tbody>\n</table>\n<p>281 rows × 7 columns</p>\n</div>"
     },
     "metadata": {},
     "execution_count": 23
    }
   ],
   "source": [
    "second = df[df['START_DATE*'] > str(2/14/2016)]\n",
    "second"
   ]
  },
  {
   "cell_type": "code",
   "execution_count": 30,
   "metadata": {},
   "outputs": [
    {
     "output_type": "execute_result",
     "data": {
      "text/plain": "           START_DATE*  MILES*\n4       1/6/2016 14:42    63.7\n25     1/14/2016 16:29    21.9\n36     1/20/2016 13:25    40.2\n62      2/1/2016 12:10    23.3\n108     2/16/2016 3:21    43.7\n...                ...     ...\n979   11/20/2016 10:27    39.2\n1088  12/21/2016 20:56   103.0\n1089  12/22/2016 15:40    32.3\n1092  12/22/2016 17:56    23.2\n1154  12/31/2016 22:08    48.2\n\n[83 rows x 2 columns]",
      "text/html": "<div>\n<style scoped>\n    .dataframe tbody tr th:only-of-type {\n        vertical-align: middle;\n    }\n\n    .dataframe tbody tr th {\n        vertical-align: top;\n    }\n\n    .dataframe thead th {\n        text-align: right;\n    }\n</style>\n<table border=\"1\" class=\"dataframe\">\n  <thead>\n    <tr style=\"text-align: right;\">\n      <th></th>\n      <th>START_DATE*</th>\n      <th>MILES*</th>\n    </tr>\n  </thead>\n  <tbody>\n    <tr>\n      <th>4</th>\n      <td>1/6/2016 14:42</td>\n      <td>63.7</td>\n    </tr>\n    <tr>\n      <th>25</th>\n      <td>1/14/2016 16:29</td>\n      <td>21.9</td>\n    </tr>\n    <tr>\n      <th>36</th>\n      <td>1/20/2016 13:25</td>\n      <td>40.2</td>\n    </tr>\n    <tr>\n      <th>62</th>\n      <td>2/1/2016 12:10</td>\n      <td>23.3</td>\n    </tr>\n    <tr>\n      <th>108</th>\n      <td>2/16/2016 3:21</td>\n      <td>43.7</td>\n    </tr>\n    <tr>\n      <th>...</th>\n      <td>...</td>\n      <td>...</td>\n    </tr>\n    <tr>\n      <th>979</th>\n      <td>11/20/2016 10:27</td>\n      <td>39.2</td>\n    </tr>\n    <tr>\n      <th>1088</th>\n      <td>12/21/2016 20:56</td>\n      <td>103.0</td>\n    </tr>\n    <tr>\n      <th>1089</th>\n      <td>12/22/2016 15:40</td>\n      <td>32.3</td>\n    </tr>\n    <tr>\n      <th>1092</th>\n      <td>12/22/2016 17:56</td>\n      <td>23.2</td>\n    </tr>\n    <tr>\n      <th>1154</th>\n      <td>12/31/2016 22:08</td>\n      <td>48.2</td>\n    </tr>\n  </tbody>\n</table>\n<p>83 rows × 2 columns</p>\n</div>"
     },
     "metadata": {},
     "execution_count": 30
    }
   ],
   "source": [
    "miles = df[(df['MILES*'] > 20) | (df['START_DATE*'] < str(9/30/2016))][['START_DATE*','MILES*']]\n",
    "miles"
   ]
  },
  {
   "source": [
    "## ISIN in pandas"
   ],
   "cell_type": "markdown",
   "metadata": {}
  },
  {
   "cell_type": "code",
   "execution_count": 7,
   "metadata": {},
   "outputs": [
    {
     "output_type": "execute_result",
     "data": {
      "text/plain": "           START_DATE*         END_DATE* CATEGORY*       START*        STOP*  \\\n7       1/7/2016 13:27    1/7/2016 13:33  Business         Cary         Cary   \n8       1/10/2016 8:05    1/10/2016 8:25  Business         Cary  Morrisville   \n27      1/15/2016 0:41    1/15/2016 1:01  Business  Morrisville         Cary   \n29     1/15/2016 13:26   1/15/2016 13:44  Business       Durham         Cary   \n30     1/18/2016 14:55   1/18/2016 15:06  Business         Cary         Cary   \n...                ...               ...       ...          ...          ...   \n1050  12/14/2016 16:52  12/14/2016 17:10  Business         Cary         Cary   \n1051  12/14/2016 17:22  12/14/2016 17:34  Business         Cary         Cary   \n1052  12/14/2016 17:50  12/14/2016 18:00  Business         Cary  Morrisville   \n1053  12/14/2016 20:24  12/14/2016 20:40  Business  Morrisville         Cary   \n1054  12/15/2016 14:20  12/15/2016 14:54  Business         Cary  Morrisville   \n\n      MILES*         PURPOSE*  \n7        0.8          Meeting  \n8        8.3          Meeting  \n27       8.0  Errand/Supplies  \n29      10.4   Meal/Entertain  \n30       4.8   Meal/Entertain  \n...      ...              ...  \n1050     3.4              NaN  \n1051     3.3              NaN  \n1052     3.0   Meal/Entertain  \n1053     3.1   Customer Visit  \n1054    10.6          Meeting  \n\n[287 rows x 7 columns]",
      "text/html": "<div>\n<style scoped>\n    .dataframe tbody tr th:only-of-type {\n        vertical-align: middle;\n    }\n\n    .dataframe tbody tr th {\n        vertical-align: top;\n    }\n\n    .dataframe thead th {\n        text-align: right;\n    }\n</style>\n<table border=\"1\" class=\"dataframe\">\n  <thead>\n    <tr style=\"text-align: right;\">\n      <th></th>\n      <th>START_DATE*</th>\n      <th>END_DATE*</th>\n      <th>CATEGORY*</th>\n      <th>START*</th>\n      <th>STOP*</th>\n      <th>MILES*</th>\n      <th>PURPOSE*</th>\n    </tr>\n  </thead>\n  <tbody>\n    <tr>\n      <th>7</th>\n      <td>1/7/2016 13:27</td>\n      <td>1/7/2016 13:33</td>\n      <td>Business</td>\n      <td>Cary</td>\n      <td>Cary</td>\n      <td>0.8</td>\n      <td>Meeting</td>\n    </tr>\n    <tr>\n      <th>8</th>\n      <td>1/10/2016 8:05</td>\n      <td>1/10/2016 8:25</td>\n      <td>Business</td>\n      <td>Cary</td>\n      <td>Morrisville</td>\n      <td>8.3</td>\n      <td>Meeting</td>\n    </tr>\n    <tr>\n      <th>27</th>\n      <td>1/15/2016 0:41</td>\n      <td>1/15/2016 1:01</td>\n      <td>Business</td>\n      <td>Morrisville</td>\n      <td>Cary</td>\n      <td>8.0</td>\n      <td>Errand/Supplies</td>\n    </tr>\n    <tr>\n      <th>29</th>\n      <td>1/15/2016 13:26</td>\n      <td>1/15/2016 13:44</td>\n      <td>Business</td>\n      <td>Durham</td>\n      <td>Cary</td>\n      <td>10.4</td>\n      <td>Meal/Entertain</td>\n    </tr>\n    <tr>\n      <th>30</th>\n      <td>1/18/2016 14:55</td>\n      <td>1/18/2016 15:06</td>\n      <td>Business</td>\n      <td>Cary</td>\n      <td>Cary</td>\n      <td>4.8</td>\n      <td>Meal/Entertain</td>\n    </tr>\n    <tr>\n      <th>...</th>\n      <td>...</td>\n      <td>...</td>\n      <td>...</td>\n      <td>...</td>\n      <td>...</td>\n      <td>...</td>\n      <td>...</td>\n    </tr>\n    <tr>\n      <th>1050</th>\n      <td>12/14/2016 16:52</td>\n      <td>12/14/2016 17:10</td>\n      <td>Business</td>\n      <td>Cary</td>\n      <td>Cary</td>\n      <td>3.4</td>\n      <td>NaN</td>\n    </tr>\n    <tr>\n      <th>1051</th>\n      <td>12/14/2016 17:22</td>\n      <td>12/14/2016 17:34</td>\n      <td>Business</td>\n      <td>Cary</td>\n      <td>Cary</td>\n      <td>3.3</td>\n      <td>NaN</td>\n    </tr>\n    <tr>\n      <th>1052</th>\n      <td>12/14/2016 17:50</td>\n      <td>12/14/2016 18:00</td>\n      <td>Business</td>\n      <td>Cary</td>\n      <td>Morrisville</td>\n      <td>3.0</td>\n      <td>Meal/Entertain</td>\n    </tr>\n    <tr>\n      <th>1053</th>\n      <td>12/14/2016 20:24</td>\n      <td>12/14/2016 20:40</td>\n      <td>Business</td>\n      <td>Morrisville</td>\n      <td>Cary</td>\n      <td>3.1</td>\n      <td>Customer Visit</td>\n    </tr>\n    <tr>\n      <th>1054</th>\n      <td>12/15/2016 14:20</td>\n      <td>12/15/2016 14:54</td>\n      <td>Business</td>\n      <td>Cary</td>\n      <td>Morrisville</td>\n      <td>10.6</td>\n      <td>Meeting</td>\n    </tr>\n  </tbody>\n</table>\n<p>287 rows × 7 columns</p>\n</div>"
     },
     "metadata": {},
     "execution_count": 7
    }
   ],
   "source": [
    "#Find Out all rides to cary and morrisville\n",
    "city = df[df['STOP*'].isin (['Cary','Morrisville'])]    \n",
    "city"
   ]
  },
  {
   "source": [
    "### Assignment"
   ],
   "cell_type": "markdown",
   "metadata": {}
  },
  {
   "cell_type": "code",
   "execution_count": 23,
   "metadata": {},
   "outputs": [
    {
     "output_type": "execute_result",
     "data": {
      "text/plain": "          START_DATE*         END_DATE*         PURPOSE*\n268   3/25/2016 13:24   3/25/2016 16:22   Customer Visit\n541   7/13/2016 12:39   7/13/2016 13:20              NaN\n651   8/11/2016 18:37   8/11/2016 19:29              NaN\n822  10/17/2016 15:19  10/17/2016 15:57              NaN\n847   10/23/2016 9:24  10/23/2016 10:05              NaN\n869  10/28/2016 15:53  10/28/2016 17:59          Meeting\n979  11/20/2016 10:27  11/20/2016 11:32  Between Offices",
      "text/html": "<div>\n<style scoped>\n    .dataframe tbody tr th:only-of-type {\n        vertical-align: middle;\n    }\n\n    .dataframe tbody tr th {\n        vertical-align: top;\n    }\n\n    .dataframe thead th {\n        text-align: right;\n    }\n</style>\n<table border=\"1\" class=\"dataframe\">\n  <thead>\n    <tr style=\"text-align: right;\">\n      <th></th>\n      <th>START_DATE*</th>\n      <th>END_DATE*</th>\n      <th>PURPOSE*</th>\n    </tr>\n  </thead>\n  <tbody>\n    <tr>\n      <th>268</th>\n      <td>3/25/2016 13:24</td>\n      <td>3/25/2016 16:22</td>\n      <td>Customer Visit</td>\n    </tr>\n    <tr>\n      <th>541</th>\n      <td>7/13/2016 12:39</td>\n      <td>7/13/2016 13:20</td>\n      <td>NaN</td>\n    </tr>\n    <tr>\n      <th>651</th>\n      <td>8/11/2016 18:37</td>\n      <td>8/11/2016 19:29</td>\n      <td>NaN</td>\n    </tr>\n    <tr>\n      <th>822</th>\n      <td>10/17/2016 15:19</td>\n      <td>10/17/2016 15:57</td>\n      <td>NaN</td>\n    </tr>\n    <tr>\n      <th>847</th>\n      <td>10/23/2016 9:24</td>\n      <td>10/23/2016 10:05</td>\n      <td>NaN</td>\n    </tr>\n    <tr>\n      <th>869</th>\n      <td>10/28/2016 15:53</td>\n      <td>10/28/2016 17:59</td>\n      <td>Meeting</td>\n    </tr>\n    <tr>\n      <th>979</th>\n      <td>11/20/2016 10:27</td>\n      <td>11/20/2016 11:32</td>\n      <td>Between Offices</td>\n    </tr>\n  </tbody>\n</table>\n</div>"
     },
     "metadata": {},
     "execution_count": 23
    }
   ],
   "source": [
    "# find all the data where distance is greater than 20 and starting point is Cary and New York\n",
    "assignment = df.loc[(df['MILES*'] > 20) & (df['START*'].isin(['Cary','New York'])),['START_DATE*','END_DATE*','PURPOSE*']]\n",
    "\n",
    "assignment"
   ]
  },
  {
   "cell_type": "code",
   "execution_count": 29,
   "metadata": {},
   "outputs": [
    {
     "output_type": "execute_result",
     "data": {
      "text/plain": "        START_DATE*         END_DATE*         PURPOSE*\n0   3/25/2016 13:24   3/25/2016 16:22   Customer Visit\n1   7/13/2016 12:39   7/13/2016 13:20              NaN\n2   8/11/2016 18:37   8/11/2016 19:29              NaN\n3  10/17/2016 15:19  10/17/2016 15:57              NaN\n4   10/23/2016 9:24  10/23/2016 10:05              NaN\n5  10/28/2016 15:53  10/28/2016 17:59          Meeting\n6  11/20/2016 10:27  11/20/2016 11:32  Between Offices",
      "text/html": "<div>\n<style scoped>\n    .dataframe tbody tr th:only-of-type {\n        vertical-align: middle;\n    }\n\n    .dataframe tbody tr th {\n        vertical-align: top;\n    }\n\n    .dataframe thead th {\n        text-align: right;\n    }\n</style>\n<table border=\"1\" class=\"dataframe\">\n  <thead>\n    <tr style=\"text-align: right;\">\n      <th></th>\n      <th>START_DATE*</th>\n      <th>END_DATE*</th>\n      <th>PURPOSE*</th>\n    </tr>\n  </thead>\n  <tbody>\n    <tr>\n      <th>0</th>\n      <td>3/25/2016 13:24</td>\n      <td>3/25/2016 16:22</td>\n      <td>Customer Visit</td>\n    </tr>\n    <tr>\n      <th>1</th>\n      <td>7/13/2016 12:39</td>\n      <td>7/13/2016 13:20</td>\n      <td>NaN</td>\n    </tr>\n    <tr>\n      <th>2</th>\n      <td>8/11/2016 18:37</td>\n      <td>8/11/2016 19:29</td>\n      <td>NaN</td>\n    </tr>\n    <tr>\n      <th>3</th>\n      <td>10/17/2016 15:19</td>\n      <td>10/17/2016 15:57</td>\n      <td>NaN</td>\n    </tr>\n    <tr>\n      <th>4</th>\n      <td>10/23/2016 9:24</td>\n      <td>10/23/2016 10:05</td>\n      <td>NaN</td>\n    </tr>\n    <tr>\n      <th>5</th>\n      <td>10/28/2016 15:53</td>\n      <td>10/28/2016 17:59</td>\n      <td>Meeting</td>\n    </tr>\n    <tr>\n      <th>6</th>\n      <td>11/20/2016 10:27</td>\n      <td>11/20/2016 11:32</td>\n      <td>Between Offices</td>\n    </tr>\n  </tbody>\n</table>\n</div>"
     },
     "metadata": {},
     "execution_count": 29
    }
   ],
   "source": [
    "assignment.reset_index(inplace = True,drop = True)\n",
    "assignment\n"
   ]
  },
  {
   "source": [
    "### Sorting"
   ],
   "cell_type": "markdown",
   "metadata": {}
  },
  {
   "cell_type": "code",
   "execution_count": 35,
   "metadata": {},
   "outputs": [
    {
     "output_type": "execute_result",
     "data": {
      "text/plain": "           START_DATE*         END_DATE* CATEGORY*            START*  \\\n269    3/25/2016 16:52   3/25/2016 22:22  Business             Latta   \n270    3/25/2016 22:54    3/26/2016 1:39  Business      Jacksonville   \n881   10/30/2016 15:22  10/30/2016 18:23  Business         Asheville   \n776    9/27/2016 21:01    9/28/2016 2:37  Business  Unknown Location   \n546    7/14/2016 16:39   7/14/2016 20:05  Business       Morrisville   \n...                ...               ...       ...               ...   \n945   11/12/2016 13:46  11/12/2016 13:50  Business           Central   \n1121  12/27/2016 12:53  12/27/2016 12:57  Business           Kar?chi   \n420     6/8/2016 17:16    6/8/2016 17:18  Business              Soho   \n44     1/26/2016 17:27   1/26/2016 17:29  Business              Cary   \n120    2/17/2016 16:38   2/17/2016 16:43  Business        Katunayaka   \n\n                 STOP*  MILES*         PURPOSE*  \n269       Jacksonville   310.3   Customer Visit  \n270          Kissimmee   201.0          Meeting  \n881             Mebane   195.9              NaN  \n776   Unknown Location   195.6              NaN  \n546         Banner Elk   195.3              NaN  \n...                ...     ...              ...  \n945      West Berkeley     0.6              NaN  \n1121           Kar?chi     0.6   Meal/Entertain  \n420            Tribeca     0.5  Errand/Supplies  \n44                Cary     0.5  Errand/Supplies  \n120         Katunayaka     0.5  Errand/Supplies  \n\n[1155 rows x 7 columns]",
      "text/html": "<div>\n<style scoped>\n    .dataframe tbody tr th:only-of-type {\n        vertical-align: middle;\n    }\n\n    .dataframe tbody tr th {\n        vertical-align: top;\n    }\n\n    .dataframe thead th {\n        text-align: right;\n    }\n</style>\n<table border=\"1\" class=\"dataframe\">\n  <thead>\n    <tr style=\"text-align: right;\">\n      <th></th>\n      <th>START_DATE*</th>\n      <th>END_DATE*</th>\n      <th>CATEGORY*</th>\n      <th>START*</th>\n      <th>STOP*</th>\n      <th>MILES*</th>\n      <th>PURPOSE*</th>\n    </tr>\n  </thead>\n  <tbody>\n    <tr>\n      <th>269</th>\n      <td>3/25/2016 16:52</td>\n      <td>3/25/2016 22:22</td>\n      <td>Business</td>\n      <td>Latta</td>\n      <td>Jacksonville</td>\n      <td>310.3</td>\n      <td>Customer Visit</td>\n    </tr>\n    <tr>\n      <th>270</th>\n      <td>3/25/2016 22:54</td>\n      <td>3/26/2016 1:39</td>\n      <td>Business</td>\n      <td>Jacksonville</td>\n      <td>Kissimmee</td>\n      <td>201.0</td>\n      <td>Meeting</td>\n    </tr>\n    <tr>\n      <th>881</th>\n      <td>10/30/2016 15:22</td>\n      <td>10/30/2016 18:23</td>\n      <td>Business</td>\n      <td>Asheville</td>\n      <td>Mebane</td>\n      <td>195.9</td>\n      <td>NaN</td>\n    </tr>\n    <tr>\n      <th>776</th>\n      <td>9/27/2016 21:01</td>\n      <td>9/28/2016 2:37</td>\n      <td>Business</td>\n      <td>Unknown Location</td>\n      <td>Unknown Location</td>\n      <td>195.6</td>\n      <td>NaN</td>\n    </tr>\n    <tr>\n      <th>546</th>\n      <td>7/14/2016 16:39</td>\n      <td>7/14/2016 20:05</td>\n      <td>Business</td>\n      <td>Morrisville</td>\n      <td>Banner Elk</td>\n      <td>195.3</td>\n      <td>NaN</td>\n    </tr>\n    <tr>\n      <th>...</th>\n      <td>...</td>\n      <td>...</td>\n      <td>...</td>\n      <td>...</td>\n      <td>...</td>\n      <td>...</td>\n      <td>...</td>\n    </tr>\n    <tr>\n      <th>945</th>\n      <td>11/12/2016 13:46</td>\n      <td>11/12/2016 13:50</td>\n      <td>Business</td>\n      <td>Central</td>\n      <td>West Berkeley</td>\n      <td>0.6</td>\n      <td>NaN</td>\n    </tr>\n    <tr>\n      <th>1121</th>\n      <td>12/27/2016 12:53</td>\n      <td>12/27/2016 12:57</td>\n      <td>Business</td>\n      <td>Kar?chi</td>\n      <td>Kar?chi</td>\n      <td>0.6</td>\n      <td>Meal/Entertain</td>\n    </tr>\n    <tr>\n      <th>420</th>\n      <td>6/8/2016 17:16</td>\n      <td>6/8/2016 17:18</td>\n      <td>Business</td>\n      <td>Soho</td>\n      <td>Tribeca</td>\n      <td>0.5</td>\n      <td>Errand/Supplies</td>\n    </tr>\n    <tr>\n      <th>44</th>\n      <td>1/26/2016 17:27</td>\n      <td>1/26/2016 17:29</td>\n      <td>Business</td>\n      <td>Cary</td>\n      <td>Cary</td>\n      <td>0.5</td>\n      <td>Errand/Supplies</td>\n    </tr>\n    <tr>\n      <th>120</th>\n      <td>2/17/2016 16:38</td>\n      <td>2/17/2016 16:43</td>\n      <td>Business</td>\n      <td>Katunayaka</td>\n      <td>Katunayaka</td>\n      <td>0.5</td>\n      <td>Errand/Supplies</td>\n    </tr>\n  </tbody>\n</table>\n<p>1155 rows × 7 columns</p>\n</div>"
     },
     "metadata": {},
     "execution_count": 35
    }
   ],
   "source": [
    "new_data = df.sort_values(by=['MILES*'],ascending=False)\n",
    "new_data    "
   ]
  }
 ]
}