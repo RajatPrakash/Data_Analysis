{
 "metadata": {
  "language_info": {
   "codemirror_mode": {
    "name": "ipython",
    "version": 3
   },
   "file_extension": ".py",
   "mimetype": "text/x-python",
   "name": "python",
   "nbconvert_exporter": "python",
   "pygments_lexer": "ipython3",
   "version": "3.8.5-final"
  },
  "orig_nbformat": 2,
  "kernelspec": {
   "name": "Python 3.8.5 32-bit",
   "display_name": "Python 3.8.5 32-bit",
   "metadata": {
    "interpreter": {
     "hash": "5570a76d94786629d850b3fecaa201e4c647910ed8808b89a501e4b9a82c4c49"
    }
   }
  }
 },
 "nbformat": 4,
 "nbformat_minor": 2,
 "cells": [
  {
   "cell_type": "code",
   "execution_count": 3,
   "metadata": {},
   "outputs": [
    {
     "output_type": "execute_result",
     "data": {
      "text/plain": [
       "  store_id        city  Jan  Feb  Mar  Apr  May  Jun  July  Aug  Sep  Oct  \\\n",
       "0      S_1       Texas    8   20   13   21   17   20    24   17   16    9   \n",
       "1      S_2  California   12   19   15   15   11   19     7   15   10   11   \n",
       "2      S_3  California   16   16   14   19   23    6    13   13   15   14   \n",
       "3      S_4       Texas    8   18   13   10   14   14     6    8    8   18   \n",
       "4      S_5       Texas   19    5   24    9    5   24    10    5   24   15   \n",
       "\n",
       "   Nov  Dec  \n",
       "0    7    6  \n",
       "1   21   19  \n",
       "2   24    8  \n",
       "3    7   11  \n",
       "4    6   13  "
      ],
      "text/html": "<div>\n<style scoped>\n    .dataframe tbody tr th:only-of-type {\n        vertical-align: middle;\n    }\n\n    .dataframe tbody tr th {\n        vertical-align: top;\n    }\n\n    .dataframe thead th {\n        text-align: right;\n    }\n</style>\n<table border=\"1\" class=\"dataframe\">\n  <thead>\n    <tr style=\"text-align: right;\">\n      <th></th>\n      <th>store_id</th>\n      <th>city</th>\n      <th>Jan</th>\n      <th>Feb</th>\n      <th>Mar</th>\n      <th>Apr</th>\n      <th>May</th>\n      <th>Jun</th>\n      <th>July</th>\n      <th>Aug</th>\n      <th>Sep</th>\n      <th>Oct</th>\n      <th>Nov</th>\n      <th>Dec</th>\n    </tr>\n  </thead>\n  <tbody>\n    <tr>\n      <th>0</th>\n      <td>S_1</td>\n      <td>Texas</td>\n      <td>8</td>\n      <td>20</td>\n      <td>13</td>\n      <td>21</td>\n      <td>17</td>\n      <td>20</td>\n      <td>24</td>\n      <td>17</td>\n      <td>16</td>\n      <td>9</td>\n      <td>7</td>\n      <td>6</td>\n    </tr>\n    <tr>\n      <th>1</th>\n      <td>S_2</td>\n      <td>California</td>\n      <td>12</td>\n      <td>19</td>\n      <td>15</td>\n      <td>15</td>\n      <td>11</td>\n      <td>19</td>\n      <td>7</td>\n      <td>15</td>\n      <td>10</td>\n      <td>11</td>\n      <td>21</td>\n      <td>19</td>\n    </tr>\n    <tr>\n      <th>2</th>\n      <td>S_3</td>\n      <td>California</td>\n      <td>16</td>\n      <td>16</td>\n      <td>14</td>\n      <td>19</td>\n      <td>23</td>\n      <td>6</td>\n      <td>13</td>\n      <td>13</td>\n      <td>15</td>\n      <td>14</td>\n      <td>24</td>\n      <td>8</td>\n    </tr>\n    <tr>\n      <th>3</th>\n      <td>S_4</td>\n      <td>Texas</td>\n      <td>8</td>\n      <td>18</td>\n      <td>13</td>\n      <td>10</td>\n      <td>14</td>\n      <td>14</td>\n      <td>6</td>\n      <td>8</td>\n      <td>8</td>\n      <td>18</td>\n      <td>7</td>\n      <td>11</td>\n    </tr>\n    <tr>\n      <th>4</th>\n      <td>S_5</td>\n      <td>Texas</td>\n      <td>19</td>\n      <td>5</td>\n      <td>24</td>\n      <td>9</td>\n      <td>5</td>\n      <td>24</td>\n      <td>10</td>\n      <td>5</td>\n      <td>24</td>\n      <td>15</td>\n      <td>6</td>\n      <td>13</td>\n    </tr>\n  </tbody>\n</table>\n</div>"
     },
     "metadata": {},
     "execution_count": 3
    }
   ],
   "source": [
    "import pandas as pd\n",
    "df = pd.read_csv(r'C:\\Users\\rajat.prakash\\Desktop\\Remote_repo\\Data\\Data_Analysis\\Files\\store_sales.csv')\n",
    "df.head(5)"
   ]
  },
  {
   "cell_type": "code",
   "execution_count": 9,
   "metadata": {},
   "outputs": [
    {
     "output_type": "execute_result",
     "data": {
      "text/plain": [
       "14.46"
      ]
     },
     "metadata": {},
     "execution_count": 9
    }
   ],
   "source": [
    "# Calculate the avg sales for Jan month\n",
    "\n",
    "sales = df['Jan'].mean()\n",
    "sales"
   ]
  },
  {
   "cell_type": "code",
   "execution_count": 10,
   "metadata": {},
   "outputs": [
    {
     "output_type": "execute_result",
     "data": {
      "text/plain": [
       "Jan     14.46\n",
       "Feb     15.09\n",
       "Mar     14.56\n",
       "Apr     14.57\n",
       "May     13.56\n",
       "Jun     13.80\n",
       "July    14.38\n",
       "Aug     15.81\n",
       "Sep     14.91\n",
       "Oct     14.10\n",
       "Nov     15.31\n",
       "Dec     13.57\n",
       "dtype: float64"
      ]
     },
     "metadata": {},
     "execution_count": 10
    }
   ],
   "source": [
    "df.apply('mean')"
   ]
  }
 ]
}